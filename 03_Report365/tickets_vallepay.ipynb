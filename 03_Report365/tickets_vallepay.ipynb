{
 "cells": [
  {
   "cell_type": "code",
   "execution_count": 58,
   "id": "c52c07b7",
   "metadata": {},
   "outputs": [],
   "source": [
    "import pandas as pd"
   ]
  },
  {
   "cell_type": "code",
   "execution_count": 59,
   "id": "20f67cf8",
   "metadata": {},
   "outputs": [
    {
     "data": {
      "application/vnd.microsoft.datawrangler.viewer.v0+json": {
       "columns": [
        {
         "name": "index",
         "rawType": "int64",
         "type": "integer"
        },
        {
         "name": "mes",
         "rawType": "object",
         "type": "string"
        },
        {
         "name": "categoria",
         "rawType": "object",
         "type": "string"
        },
        {
         "name": "quantidade_chamados",
         "rawType": "int64",
         "type": "integer"
        }
       ],
       "conversionMethod": "pd.DataFrame",
       "ref": "47fb34eb-1fb7-4d8e-9f23-20858db3eb9a",
       "rows": [
        [
         "0",
         "2024-12",
         "Cadastro",
         "2"
        ],
        [
         "1",
         "2024-12",
         "Outros",
         "1"
        ],
        [
         "2",
         "2024-12",
         "Transações de Estorno",
         "13"
        ],
        [
         "3",
         "2024-12",
         "Transações de Pagamento",
         "2"
        ],
        [
         "4",
         "2024-12",
         "Transferências de saldo para TAXISTAS",
         "86"
        ],
        [
         "5",
         "2025-01",
         "Cadastro",
         "1"
        ],
        [
         "6",
         "2025-01",
         "Transações de Estorno",
         "5"
        ],
        [
         "7",
         "2025-01",
         "Transações de Pagamento",
         "2"
        ],
        [
         "8",
         "2025-01",
         "Transferências de saldo para TAXISTAS",
         "28"
        ],
        [
         "9",
         "2025-02",
         "Transações de Estorno",
         "1"
        ],
        [
         "10",
         "2025-02",
         "Transferências de saldo para TAXISTAS",
         "29"
        ],
        [
         "11",
         "2025-03",
         "Transferências de saldo para TAXISTAS",
         "20"
        ],
        [
         "12",
         "2025-04",
         "Infraestrutura",
         "1"
        ],
        [
         "13",
         "2025-04",
         "Outros",
         "1"
        ],
        [
         "14",
         "2025-04",
         "Transferências de saldo para TAXISTAS",
         "5"
        ]
       ],
       "shape": {
        "columns": 3,
        "rows": 15
       }
      },
      "text/html": [
       "<div>\n",
       "<style scoped>\n",
       "    .dataframe tbody tr th:only-of-type {\n",
       "        vertical-align: middle;\n",
       "    }\n",
       "\n",
       "    .dataframe tbody tr th {\n",
       "        vertical-align: top;\n",
       "    }\n",
       "\n",
       "    .dataframe thead th {\n",
       "        text-align: right;\n",
       "    }\n",
       "</style>\n",
       "<table border=\"1\" class=\"dataframe\">\n",
       "  <thead>\n",
       "    <tr style=\"text-align: right;\">\n",
       "      <th></th>\n",
       "      <th>mes</th>\n",
       "      <th>categoria</th>\n",
       "      <th>quantidade_chamados</th>\n",
       "    </tr>\n",
       "  </thead>\n",
       "  <tbody>\n",
       "    <tr>\n",
       "      <th>0</th>\n",
       "      <td>2024-12</td>\n",
       "      <td>Cadastro</td>\n",
       "      <td>2</td>\n",
       "    </tr>\n",
       "    <tr>\n",
       "      <th>1</th>\n",
       "      <td>2024-12</td>\n",
       "      <td>Outros</td>\n",
       "      <td>1</td>\n",
       "    </tr>\n",
       "    <tr>\n",
       "      <th>2</th>\n",
       "      <td>2024-12</td>\n",
       "      <td>Transações de Estorno</td>\n",
       "      <td>13</td>\n",
       "    </tr>\n",
       "    <tr>\n",
       "      <th>3</th>\n",
       "      <td>2024-12</td>\n",
       "      <td>Transações de Pagamento</td>\n",
       "      <td>2</td>\n",
       "    </tr>\n",
       "    <tr>\n",
       "      <th>4</th>\n",
       "      <td>2024-12</td>\n",
       "      <td>Transferências de saldo para TAXISTAS</td>\n",
       "      <td>86</td>\n",
       "    </tr>\n",
       "    <tr>\n",
       "      <th>5</th>\n",
       "      <td>2025-01</td>\n",
       "      <td>Cadastro</td>\n",
       "      <td>1</td>\n",
       "    </tr>\n",
       "    <tr>\n",
       "      <th>6</th>\n",
       "      <td>2025-01</td>\n",
       "      <td>Transações de Estorno</td>\n",
       "      <td>5</td>\n",
       "    </tr>\n",
       "    <tr>\n",
       "      <th>7</th>\n",
       "      <td>2025-01</td>\n",
       "      <td>Transações de Pagamento</td>\n",
       "      <td>2</td>\n",
       "    </tr>\n",
       "    <tr>\n",
       "      <th>8</th>\n",
       "      <td>2025-01</td>\n",
       "      <td>Transferências de saldo para TAXISTAS</td>\n",
       "      <td>28</td>\n",
       "    </tr>\n",
       "    <tr>\n",
       "      <th>9</th>\n",
       "      <td>2025-02</td>\n",
       "      <td>Transações de Estorno</td>\n",
       "      <td>1</td>\n",
       "    </tr>\n",
       "    <tr>\n",
       "      <th>10</th>\n",
       "      <td>2025-02</td>\n",
       "      <td>Transferências de saldo para TAXISTAS</td>\n",
       "      <td>29</td>\n",
       "    </tr>\n",
       "    <tr>\n",
       "      <th>11</th>\n",
       "      <td>2025-03</td>\n",
       "      <td>Transferências de saldo para TAXISTAS</td>\n",
       "      <td>20</td>\n",
       "    </tr>\n",
       "    <tr>\n",
       "      <th>12</th>\n",
       "      <td>2025-04</td>\n",
       "      <td>Infraestrutura</td>\n",
       "      <td>1</td>\n",
       "    </tr>\n",
       "    <tr>\n",
       "      <th>13</th>\n",
       "      <td>2025-04</td>\n",
       "      <td>Outros</td>\n",
       "      <td>1</td>\n",
       "    </tr>\n",
       "    <tr>\n",
       "      <th>14</th>\n",
       "      <td>2025-04</td>\n",
       "      <td>Transferências de saldo para TAXISTAS</td>\n",
       "      <td>5</td>\n",
       "    </tr>\n",
       "  </tbody>\n",
       "</table>\n",
       "</div>"
      ],
      "text/plain": [
       "        mes                              categoria  quantidade_chamados\n",
       "0   2024-12                               Cadastro                    2\n",
       "1   2024-12                                 Outros                    1\n",
       "2   2024-12                  Transações de Estorno                   13\n",
       "3   2024-12                Transações de Pagamento                    2\n",
       "4   2024-12  Transferências de saldo para TAXISTAS                   86\n",
       "5   2025-01                               Cadastro                    1\n",
       "6   2025-01                  Transações de Estorno                    5\n",
       "7   2025-01                Transações de Pagamento                    2\n",
       "8   2025-01  Transferências de saldo para TAXISTAS                   28\n",
       "9   2025-02                  Transações de Estorno                    1\n",
       "10  2025-02  Transferências de saldo para TAXISTAS                   29\n",
       "11  2025-03  Transferências de saldo para TAXISTAS                   20\n",
       "12  2025-04                         Infraestrutura                    1\n",
       "13  2025-04                                 Outros                    1\n",
       "14  2025-04  Transferências de saldo para TAXISTAS                    5"
      ]
     },
     "execution_count": 59,
     "metadata": {},
     "output_type": "execute_result"
    }
   ],
   "source": [
    "dados_vp = pd.read_csv(r\"C:\\Users\\Erione Technologies\\Downloads\\_QTD_FOR_CATEGORY_SELECT_DATE_FORMAT_tk_date_Y_m_AS_mes_gi_compl_202504110917.csv\", sep=',')\n",
    "dados_vp"
   ]
  },
  {
   "cell_type": "code",
   "execution_count": 60,
   "id": "c5550f4f",
   "metadata": {},
   "outputs": [
    {
     "data": {
      "text/plain": [
       "mes\n",
       "2024-12    104\n",
       "2025-01     36\n",
       "2025-02     30\n",
       "2025-03     20\n",
       "2025-04      7\n",
       "Name: quantidade_chamados, dtype: int64"
      ]
     },
     "execution_count": 60,
     "metadata": {},
     "output_type": "execute_result"
    }
   ],
   "source": [
    "dados_vp.groupby('mes')['quantidade_chamados'].sum()"
   ]
  },
  {
   "cell_type": "code",
   "execution_count": 61,
   "id": "c4c4e3e8",
   "metadata": {},
   "outputs": [
    {
     "data": {
      "application/vnd.microsoft.datawrangler.viewer.v0+json": {
       "columns": [
        {
         "name": "mes",
         "rawType": "object",
         "type": "string"
        },
        {
         "name": "Cadastro",
         "rawType": "float64",
         "type": "float"
        },
        {
         "name": "Infraestrutura",
         "rawType": "float64",
         "type": "float"
        },
        {
         "name": "Outros",
         "rawType": "float64",
         "type": "float"
        },
        {
         "name": "Transações de Estorno",
         "rawType": "float64",
         "type": "float"
        },
        {
         "name": "Transações de Pagamento",
         "rawType": "float64",
         "type": "float"
        },
        {
         "name": "Transferências de saldo para TAXISTAS",
         "rawType": "float64",
         "type": "float"
        }
       ],
       "conversionMethod": "pd.DataFrame",
       "ref": "2016e4fb-3214-4d0e-8e50-46b7d0df9571",
       "rows": [
        [
         "2024-12",
         "2.0",
         null,
         "1.0",
         "13.0",
         "2.0",
         "86.0"
        ],
        [
         "2025-01",
         "1.0",
         null,
         null,
         "5.0",
         "2.0",
         "28.0"
        ],
        [
         "2025-02",
         null,
         null,
         null,
         "1.0",
         null,
         "29.0"
        ],
        [
         "2025-03",
         null,
         null,
         null,
         null,
         null,
         "20.0"
        ],
        [
         "2025-04",
         null,
         "1.0",
         "1.0",
         null,
         null,
         "5.0"
        ]
       ],
       "shape": {
        "columns": 6,
        "rows": 5
       }
      },
      "text/html": [
       "<div>\n",
       "<style scoped>\n",
       "    .dataframe tbody tr th:only-of-type {\n",
       "        vertical-align: middle;\n",
       "    }\n",
       "\n",
       "    .dataframe tbody tr th {\n",
       "        vertical-align: top;\n",
       "    }\n",
       "\n",
       "    .dataframe thead th {\n",
       "        text-align: right;\n",
       "    }\n",
       "</style>\n",
       "<table border=\"1\" class=\"dataframe\">\n",
       "  <thead>\n",
       "    <tr style=\"text-align: right;\">\n",
       "      <th>categoria</th>\n",
       "      <th>Cadastro</th>\n",
       "      <th>Infraestrutura</th>\n",
       "      <th>Outros</th>\n",
       "      <th>Transações de Estorno</th>\n",
       "      <th>Transações de Pagamento</th>\n",
       "      <th>Transferências de saldo para TAXISTAS</th>\n",
       "    </tr>\n",
       "    <tr>\n",
       "      <th>mes</th>\n",
       "      <th></th>\n",
       "      <th></th>\n",
       "      <th></th>\n",
       "      <th></th>\n",
       "      <th></th>\n",
       "      <th></th>\n",
       "    </tr>\n",
       "  </thead>\n",
       "  <tbody>\n",
       "    <tr>\n",
       "      <th>2024-12</th>\n",
       "      <td>2.0</td>\n",
       "      <td>NaN</td>\n",
       "      <td>1.0</td>\n",
       "      <td>13.0</td>\n",
       "      <td>2.0</td>\n",
       "      <td>86.0</td>\n",
       "    </tr>\n",
       "    <tr>\n",
       "      <th>2025-01</th>\n",
       "      <td>1.0</td>\n",
       "      <td>NaN</td>\n",
       "      <td>NaN</td>\n",
       "      <td>5.0</td>\n",
       "      <td>2.0</td>\n",
       "      <td>28.0</td>\n",
       "    </tr>\n",
       "    <tr>\n",
       "      <th>2025-02</th>\n",
       "      <td>NaN</td>\n",
       "      <td>NaN</td>\n",
       "      <td>NaN</td>\n",
       "      <td>1.0</td>\n",
       "      <td>NaN</td>\n",
       "      <td>29.0</td>\n",
       "    </tr>\n",
       "    <tr>\n",
       "      <th>2025-03</th>\n",
       "      <td>NaN</td>\n",
       "      <td>NaN</td>\n",
       "      <td>NaN</td>\n",
       "      <td>NaN</td>\n",
       "      <td>NaN</td>\n",
       "      <td>20.0</td>\n",
       "    </tr>\n",
       "    <tr>\n",
       "      <th>2025-04</th>\n",
       "      <td>NaN</td>\n",
       "      <td>1.0</td>\n",
       "      <td>1.0</td>\n",
       "      <td>NaN</td>\n",
       "      <td>NaN</td>\n",
       "      <td>5.0</td>\n",
       "    </tr>\n",
       "  </tbody>\n",
       "</table>\n",
       "</div>"
      ],
      "text/plain": [
       "categoria  Cadastro  Infraestrutura  Outros  Transações de Estorno  \\\n",
       "mes                                                                  \n",
       "2024-12         2.0             NaN     1.0                   13.0   \n",
       "2025-01         1.0             NaN     NaN                    5.0   \n",
       "2025-02         NaN             NaN     NaN                    1.0   \n",
       "2025-03         NaN             NaN     NaN                    NaN   \n",
       "2025-04         NaN             1.0     1.0                    NaN   \n",
       "\n",
       "categoria  Transações de Pagamento  Transferências de saldo para TAXISTAS  \n",
       "mes                                                                        \n",
       "2024-12                        2.0                                   86.0  \n",
       "2025-01                        2.0                                   28.0  \n",
       "2025-02                        NaN                                   29.0  \n",
       "2025-03                        NaN                                   20.0  \n",
       "2025-04                        NaN                                    5.0  "
      ]
     },
     "execution_count": 61,
     "metadata": {},
     "output_type": "execute_result"
    }
   ],
   "source": [
    "dados_vp.groupby(['mes', 'categoria'])['quantidade_chamados'].sum().unstack()"
   ]
  },
  {
   "cell_type": "code",
   "execution_count": 62,
   "id": "a3fb3076",
   "metadata": {},
   "outputs": [
    {
     "data": {
      "image/png": "[encoded data removed]",
      "text/plain": [
       "<Figure size 1200x600 with 1 Axes>"
      ]
     },
     "metadata": {},
     "output_type": "display_data"
    }
   ],
   "source": [
    "import seaborn as sns\n",
    "import matplotlib.pyplot as plt\n",
    "\n",
    "plt.figure(figsize=(12, 6))\n",
    "sns.barplot(data=dados_vp, x='mes', y='quantidade_chamados', hue='categoria')\n",
    "\n",
    "for container in plt.gca().containers:\n",
    "    plt.bar_label(container, fontsize=8)\n",
    "\n",
    "plt.title('Chamados por Categoria')\n",
    "plt.xlabel('Mês')\n",
    "plt.ylabel('Quantidade de Chamados')\n",
    "plt.xticks(rotation=360)\n",
    "plt.tight_layout()\n",
    "plt.show()\n"
   ]
  },
  {
   "cell_type": "code",
   "execution_count": 63,
   "id": "d3babfef",
   "metadata": {},
   "outputs": [
    {
     "data": {
      "application/vnd.microsoft.datawrangler.viewer.v0+json": {
       "columns": [
        {
         "name": "index",
         "rawType": "int64",
         "type": "integer"
        },
        {
         "name": "id",
         "rawType": "int64",
         "type": "integer"
        },
        {
         "name": "name",
         "rawType": "object",
         "type": "string"
        },
        {
         "name": "content",
         "rawType": "object",
         "type": "string"
        },
        {
         "name": "date",
         "rawType": "object",
         "type": "string"
        },
        {
         "name": "users_id_recipient",
         "rawType": "int64",
         "type": "integer"
        },
        {
         "name": "status",
         "rawType": "int64",
         "type": "integer"
        }
       ],
       "conversionMethod": "pd.DataFrame",
       "ref": "246d5286-5169-4680-9d20-c355a9eafc99",
       "rows": [
        [
         "0",
         "373",
         "Verificação de cobrança",
         "&#60;p&#62;Boa tarde, solicito verificação do status do pagamento ao taxista abaixo, da corrida efetuada no dia 13/11/2024, no valor de R$ 0,00.&#60;/p&#62;\n&#60;p&#62;&#60;strong&#62;O taxista informou a chave PIX: 09471108799 (CPF)&#60;/strong&#62;&#60;/p&#62;\n&#60;p&#62;ID da corrida: 6735095cd40b950015811cc8&#60;/p&#62;\n&#60;p&#62;E-mail: allanerco@hotmail.com&#60;br&#62;Id: 5a4ffc136398e976f1151143&#60;br&#62;RATR: 1110713&#60;br&#62;Nome: Allan da Silva Silveira                &#60;/p&#62;\n&#60;p&#62;Atenciosamente,&#60;/p&#62;\n&#60;p&#62;Equipe TAXI.RIO CIDADES&#60;/p&#62;",
         "2025-04-02 17:11:40",
         "7",
         "6"
        ],
        [
         "1",
         "372",
         "Verificação de cobrança",
         "&#60;p&#62;Boa tarde, solicito verificação do status do pagamento ao taxista abaixo, das corridas efetuadas nos seguintes dias: &#60;/p&#62;\n&#60;p&#62;22/01/2025 no valor de R$ 20,46&#60;br&#62;ID da corrida: 6790db7234cbe500159d55b1&#60;/p&#62;\n&#60;p&#62;03/02/2025 no valor de R$ 29,43&#60;br&#62;ID da corrida: 67a0b1c09f50bd0015846213&#60;/p&#62;\n&#60;p&#62;06/02/2025 no valor de R$ 46,49&#60;br&#62;ID da corrida: 67a472eb4afadd0015307900&#60;/p&#62;\n&#60;p&#62;14/02/2025 no valor de R$ 9,90&#60;br&#62;ID da corrida: 67af23161f931700158adfcb&#60;/p&#62;\n&#60;p&#62;11/03/2025 no valor de R$ 18,28&#60;br&#62;ID da corrida: 67d017e46ec25e0015249c5b&#60;/p&#62;\n&#60;p&#62;24/03/2025 no valor de R$ 45,67&#60;br&#62;ID da corrida: 67e15052f27ac40015991a66&#60;/p&#62;\n&#60;p&#62;25/03/2025 no valor de R$ 60,88&#60;br&#62;ID da corrida: 67e282825f77e600157cff85&#60;/p&#62;\n&#60;p&#62;&#60;strong&#62;O taxista informou a chave PIX: 21964385905 (Celular)&#60;/strong&#62;&#60;/p&#62;\n&#60;p&#62;E-mail: marioacostataxi@gmail.com&#60;br&#62;Id: 59f92f6c6398e92ce04e3287&#60;br&#62;RATR: 228411&#60;br&#62;Nome: Mario Alves da Costa&#60;/p&#62;\n&#60;p&#62;Atenciosamente,&#60;/p&#62;\n&#60;p&#62;Equipe TAXI.RIO CIDADES&#60;/p&#62;",
         "2025-04-02 14:20:00",
         "7",
         "5"
        ],
        [
         "2",
         "371",
         "Verificação de cobrança",
         "&#60;p&#62;Bom dia, solicito verificação do status do pagamento ao taxista abaixo, da corrida efetuada no dia 23/03/2025, no valor de R$ 60,02.&#60;/p&#62;\n&#60;p&#62;&#60;strong&#62;O taxista informou a chave PIX: 21998386100 (Celular)&#60;/strong&#62;&#60;/p&#62;\n&#60;p&#62;ID da corrida: 67e0b954e82c7300155da702&#60;/p&#62;\n&#60;p&#62;E-mail: daniel.calixto19@gmail.com&#60;br&#62;Id: 5a3aad4c6398e9416aff4701&#60;br&#62;RATR: 1075938&#60;br&#62;Nome: Daniel Antunes Calixto                &#60;/p&#62;\n&#60;p&#62;Atenciosamente,&#60;/p&#62;\n&#60;p&#62;Equipe TAXI.RIO CIDADES&#60;/p&#62;",
         "2025-04-02 12:49:44",
         "7",
         "5"
        ],
        [
         "3",
         "370",
         "Verificação de cobrança",
         "&#60;p&#62;Bom dia, solicito verificação do status do pagamento ao taxista abaixo, das corridas efetuadas nos seguintes dias: &#60;/p&#62;\n&#60;p&#62;29/01/2025 no valor de R$ 41,63&#60;br&#62;ID da corrida: 679a0a0623c9780015f370c5&#60;/p&#62;\n&#60;p&#62;04/02/2025 no valor de R$ 72,92&#60;br&#62;ID da corrida: 67a1fb209023d30015cce065&#60;/p&#62;\n&#60;p&#62;13/03/2025 no valor de R$ 56,02&#60;br&#62;ID da corrida: 67d2aed45182d000140b97f4&#60;/p&#62;\n&#60;p&#62;&#60;strong&#62;O taxista informou a chave PIX: 21971615799 (Celular)&#60;/strong&#62;&#60;/p&#62;\n&#60;p&#62;E-mail: pcmorais101@gmail.com&#60;br&#62;Id: 5aec7b436398e96d80e76d1f&#60;br&#62;RATR: 574606&#60;br&#62;Nome: Paulo Cesar de Morais                &#60;/p&#62;\n&#60;p&#62;Atenciosamente,&#60;/p&#62;\n&#60;p&#62;Equipe TAXI.RIO CIDADES&#60;/p&#62;",
         "2025-04-02 12:34:54",
         "7",
         "6"
        ],
        [
         "4",
         "368",
         "Verificação de cobrança",
         "&#60;p&#62;Bom dia, solicito verificação do status do pagamento ao taxista abaixo, da corrida efetuada no dia 09/03/2025, no valor de R$ 37,21.&#60;/p&#62;\n&#60;p&#62;&#60;strong&#62;O taxista informou a chave PIX: 12537928792 (CPF)&#60;/strong&#62;&#60;/p&#62;\n&#60;p&#62;ID da corrida: 67cd0bf2919efb001684c18b&#60;/p&#62;\n&#60;p&#62;E-mail: gean_baterista@hotmail.com&#60;br&#62;Id: 6748b718dab29c01599f6401&#60;br&#62;RATR: 1128973&#60;br&#62;Nome: Gean Mateus de Araujo Moreira&#60;/p&#62;\n&#60;p&#62;Atenciosamente,&#60;/p&#62;\n&#60;p&#62;Equipe TAXI.RIO CIDADES&#60;/p&#62;",
         "2025-04-01 12:23:13",
         "7",
         "6"
        ],
        [
         "5",
         "367",
         "Verificação de cobrança",
         "&#60;p&#62;Bom dia, solicito verificação do status dos pagamentos ao taxista abaixo. Estes casos estão relacionado a corridas com \"erro no pagamento\". Estas corridas já foram validadas em nossa plataforma.&#60;/p&#62;\n&#60;p&#62;Corrida efetuada no dia 24/02/2025, no valor de R$ 21,14.&#60;/p&#62;\n&#60;p&#62;Id da corrida: 67bc95c82b682a00150439a8&#60;/p&#62;\n&#60;p&#62;Dados do passageiro:&#60;br&#62;E-mail: lcsrodriguesm@gmail.com&#60;br&#62;Id: 651f91a4a48b1b00152acf56&#60;br&#62;Nome: Lucas Rodrigues&#60;/p&#62;\n&#60;p&#62;Corrida efetuada no dia 18/03/2025, no valor de R$ 13,31.&#60;/p&#62;\n&#60;p&#62;Id da corrida: 67d9aece9644f300140be91d&#60;/p&#62;\n&#60;p&#62;Dados do passageiro: &#60;br&#62;E-mail: carolina.melhem@hotmail.com&#60;br&#62;Id: 6051e8e54aabf100169c5b3f&#60;br&#62;Nome: Carolina Henninger Melhem&#60;/p&#62;\n&#60;p&#62;Dados do taxista&#60;br&#62;E-mail: forasteiri@gmail.com&#60;br&#62;Id: 59f930836398e92ce04e35a7&#60;br&#62;RATR: 1003509&#60;br&#62;Nome: Jorge Forasteiri Silva&#60;/p&#62;\n&#60;p&#62;Atenciosamente,&#60;/p&#62;\n&#60;p&#62;Equipe TAXI.RIO CIDADES&#60;/p&#62;",
         "2025-03-27 12:18:41",
         "7",
         "6"
        ],
        [
         "6",
         "366",
         "Verificação de cobrança",
         "&#60;p&#62;Bom dia, solicito verificação do status dos pagamentos ao taxista abaixo. Este caso está relacionado a corridas com \"erro no pagamento\". Esta corrida já foi validada em nossa plataforma.&#60;/p&#62;\n&#60;p&#62;Corrida efetuada no dia 22/03/2025, no valor de R$ 16,95.&#60;/p&#62;\n&#60;p&#62;Id da corrida: 67df3820feb50d00168ad15c&#60;/p&#62;\n&#60;p&#62;Dados do passageiro:&#60;br&#62;E-mail: nana.nolasco@gmail.com&#60;br&#62;Id: 5d2e5369a7b11b0140b44382&#60;br&#62;Nome: Adrianna Nolasco Souza Pereira&#60;/p&#62;\n&#60;p&#62;Corrida efetuada no dia 22/03/2025, no valor de R$ 25,93.&#60;/p&#62;\n&#60;p&#62;Id da corrida: 67df6b52766cfe00153e7328&#60;/p&#62;\n&#60;p&#62;Dados do passageiro:&#60;br&#62;E-mail: gentil124@gmail.com&#60;br&#62;Id: 5faab6cde55e0f001528fba9&#60;br&#62;Nome: Marcela M Gentil&#60;/p&#62;\n&#60;p&#62;&#60;strong&#62;O taxista informou a chave PIX: 01646021789 (CPF)&#60;/strong&#62;&#60;/p&#62;\n&#60;p&#62;Dados do taxista&#60;br&#62;E-mail: rogeriodeooliveira@gmail.com&#60;br&#62;Id: 5b338de26398e96d80e95052&#60;br&#62;RATR: 1002143&#60;br&#62;Nome: Rogerio Santos de Oliveira&#60;/p&#62;\n&#60;p&#62;Atenciosamente,&#60;/p&#62;\n&#60;p&#62;Equipe TAXI.RIO CIDADES&#60;/p&#62;",
         "2025-03-26 12:20:55",
         "7",
         "6"
        ],
        [
         "7",
         "365",
         "Verificação de cobrança",
         "&#60;p&#62;Bom dia, solicito verificação do status do pagamento ao taxista abaixo, da corrida efetuada no dia 23/03/2025, no valor de R$ 170,45. Este caso está relacionado como \"Corrida em análise\", por se tratar de aparente disparidade entre o valor previsto  o valor efetivamente cobrado do passageiro. Esta corrida já foi validada em nossa plataforma.&#60;/p&#62;\n&#60;p&#62;Id da corrida: 67e05b71bfa4eb0015deb5b7&#60;/p&#62;\n&#60;p&#62;Dados do passageiro:&#60;br&#62;E-mail: gustavogamaliel@yahoo.com.br&#60;br&#62;Id: 66e571858d559200141fc4bd&#60;br&#62;Nome: Gustavo Gamaliel Alves de Souza&#60;/p&#62;\n&#60;p&#62;Dados do taxista&#60;br&#62;E-mail: edsonsilvajpa@gmail.com&#60;br&#62;Id: 5a2fdd086398e9416aff02db&#60;br&#62;RATR: 1017210&#60;br&#62;Nome: Edson Luiz da Silva&#60;/p&#62;\n&#60;p&#62;Atenciosamente,&#60;/p&#62;\n&#60;p&#62;Equipe TAXI.RIO CIDADES&#60;/p&#62;",
         "2025-03-26 11:27:59",
         "7",
         "6"
        ],
        [
         "8",
         "364",
         "Verificação de cobrança",
         "&#60;p&#62;Bom dia, solicito verificação do status do pagamento ao taxista abaixo, da corrida efetuada no dia 20/02/2025, no valor de R$ 51,63.&#60;/p&#62;\n&#60;p&#62;&#60;strong&#62;O taxista informou a chave PIX: 21971615799 (Celular)&#60;/strong&#62;&#60;/p&#62;\n&#60;p&#62;&#60;strong&#62;ID da corrida: 67b76faa008b700015713fd4&#60;/strong&#62;&#60;/p&#62;\n&#60;p&#62;E-mail: edimilsonkelly56@gmail.com&#60;br&#62;Id: 5c8151f76398e962637e3bb0&#60;br&#62;RATR: 1108623&#60;br&#62;Nome: Edimilson Oliveira de Miranda                &#60;/p&#62;\n&#60;p&#62;Atenciosamente,&#60;/p&#62;\n&#60;p&#62;Equipe TAXI.RIO CIDADES&#60;/p&#62;",
         "2025-03-26 11:07:12",
         "7",
         "6"
        ],
        [
         "9",
         "363",
         "Verificação de cobrança",
         "&#60;p&#62;Bom dia, solicito verificação do status do pagamento ao taxista abaixo, das corridas efetuadas nos seguintes dias: &#60;/p&#62;\n&#60;p&#62;14/03/2025 no valor de R$ 29,17&#60;br&#62;ID da corrida: 67d4e7394952320014c21f46&#60;/p&#62;\n&#60;p&#62;15/03/2025 no valor de R$ 23,32&#60;br&#62;ID da corrida: 67d6078e27aeef00150a43dd&#60;/p&#62;\n&#60;p&#62;&#60;strong&#62;O taxista informou a chave PIX: 77013077704 (CPF)&#60;/strong&#62;&#60;/p&#62;\n&#60;p&#62;E-mail: mauricioblackcat1@gmail.com&#60;br&#62;Id: 59f941566398e92ce04e6583&#60;br&#62;RATR: 428394&#60;br&#62;Nome: Vanderlei Mauricio de Souza&#60;/p&#62;\n&#60;p&#62;Atenciosamente,&#60;/p&#62;\n&#60;p&#62;Equipe TAXI.RIO CIDADES&#60;/p&#62;",
         "2025-03-26 10:17:34",
         "7",
         "6"
        ],
        [
         "10",
         "362",
         "Verificação de cobrança",
         "&#60;p&#62;Boa tarde, solicito verificação do status do pagamento ao taxista abaixo, das corridas efetuadas nos seguintes dias: &#60;/p&#62;\n&#60;p&#62;28/02/2025 no valor de R$ 109,44&#60;br&#62;ID da corrida: 67c1f55c9ab80d00159c2365&#60;/p&#62;\n&#60;p&#62;01/03/2025 no valor de R$ 29,06&#60;br&#62;ID da corrida: 67c30ec6cdb5ac0016a826a2&#60;/p&#62;\n&#60;p&#62;&#60;strong&#62;O taxista informou a chave PIX: 21998531119 (Celular)&#60;/strong&#62;&#60;/p&#62;\n&#60;p&#62;E-mail: leandroferreiracosta149@gmail.com&#60;br&#62;Id: 668d50e57eb8f7015120c3fa&#60;br&#62;RATR: 1127815&#60;br&#62;Nome: Leandro Ferreira Costa   &#60;/p&#62;\n&#60;p&#62;Atenciosamente,&#60;/p&#62;\n&#60;p&#62;Equipe TAXI.RIO CIDADES&#60;/p&#62;",
         "2025-03-21 17:35:25",
         "7",
         "6"
        ],
        [
         "11",
         "361",
         "Verificação de cobrança",
         "&#60;p&#62;Boa tarde, solicito verificação do status do pagamento ao taxista abaixo, das corridas efetuadas nos seguintes dias: &#60;/p&#62;\n&#60;p&#62;10/02/2025 no valor de R$ 17,86&#60;br&#62;ID da corrida: 67a9cf0498d9f90015ecb564&#60;/p&#62;\n&#60;p&#62;12/02/2025 no valor de R$ 44,35&#60;br&#62;ID da corrida: 67ac97fe008b7000156cd78d&#60;/p&#62;\n&#60;p&#62;&#60;strong&#62;O taxista informou a chave PIX: 00548225729 (CPF)&#60;/strong&#62;&#60;/p&#62;\n&#60;p&#62;E-mail: mabosco43@gmail.com&#60;br&#62;Id: 5a1eb7146398e9416a4aeb91&#60;br&#62;RATR: 745938&#60;br&#62;Nome: Marcelo Alves Caetano&#60;/p&#62;\n&#60;p&#62;Atenciosamente,&#60;/p&#62;\n&#60;p&#62;Equipe TAXI.RIO CIDADES&#60;/p&#62;",
         "2025-03-20 15:42:20",
         "7",
         "6"
        ],
        [
         "12",
         "360",
         "Verificação de cobrança",
         "&#60;p&#62;Bom dia, solicito verificação do status do pagamento ao taxista abaixo, da corrida efetuada no dia 25/02/2025, no valor de R$ 52,37.&#60;/p&#62;\n&#60;p&#62;&#60;strong&#62;O taxista informou a chave PIX: 21965391208 (Celular)&#60;/strong&#62;&#60;/p&#62;\n&#60;p&#62;&#60;strong&#62;ID da corrida: 67bd9acbe4a85f0016f85b4c&#60;/strong&#62;&#60;/p&#62;\n&#60;p&#62;E-mail: dantasdossantosdaniel65@gmail.com&#60;br&#62;Id: 66ed8012420a04015a47b43c&#60;br&#62;RATR: 300690&#60;br&#62;Nome: Daniel Dantas dos Santos&#60;/p&#62;\n&#60;p&#62;Atenciosamente,&#60;/p&#62;\n&#60;p&#62;Equipe TAXI.RIO CIDADES&#60;/p&#62;",
         "2025-03-20 11:00:13",
         "7",
         "6"
        ],
        [
         "13",
         "359",
         "Verificação de cobrança",
         "&#60;p&#62;Bom dia, solicito verificação do status do pagamento ao taxista abaixo, das corridas efetuadas nos seguintes dias: &#60;/p&#62;\n&#60;p&#62;25/02/2025 no valor de R$ 24,18&#60;br&#62;ID da corrida: 67bde0c02e81b60016d07cf1&#60;/p&#62;\n&#60;p&#62;27/02/2025 no valor de R$ 53,35&#60;br&#62;ID da corrida: 67c071ef4f70a8001572bdf3&#60;/p&#62;\n&#60;p&#62;02/03/2025 no valor de R$ 15,01&#60;br&#62;ID da corrida: 67c46cc2d584570015ead917&#60;/p&#62;\n&#60;p&#62;06/03/2025 no valor de R$ 46,27&#60;br&#62;ID da corrida: 67c9bba583896a0014d46b08&#60;/p&#62;\n&#60;p&#62;13/03/2025 no valor de R$ 17,20&#60;br&#62;ID da corrida: 67d3157b7bf1880015d1a7c8&#60;/p&#62;\n&#60;p&#62;&#60;strong&#62;O taxista informou a chave PIX: 91410045749 (CPF)&#60;/strong&#62;&#60;/p&#62;\n&#60;p&#62;E-mail: gilsonviana188@gmail.com&#60;br&#62;Id: 5bdb05f26398e962637e1ea8&#60;br&#62;RATR: 1086853&#60;br&#62;Nome: Gilson Viana da Silva&#60;/p&#62;\n&#60;p&#62;Atenciosamente,&#60;/p&#62;\n&#60;p&#62;Equipe TAXI.RIO CIDADES&#60;/p&#62;",
         "2025-03-20 10:21:57",
         "7",
         "6"
        ],
        [
         "14",
         "357",
         "Verificação de cobrança",
         "&#60;p&#62;Bom dia, solicito verificação do status do pagamento ao taxista abaixo, da corrida efetuada no dia 08/03/2025, no valor de R$ 50,02.&#60;/p&#62;\n&#60;p&#62;&#60;strong&#62;O taxista informou a chave PIX: 21964621785 (Celular)&#60;/strong&#62;&#60;/p&#62;\n&#60;p&#62;&#60;strong&#62;ID da corrida: 67cc8dd72effd70015f0751f&#60;/strong&#62;&#60;/p&#62;\n&#60;p&#62;E-mail: arisilv21@gmail.com&#60;br&#62;Id: 59f9472f6398e92ce04e75ec&#60;br&#62;RATR: 996050&#60;br&#62;Nome: Arionaldo Espirito Santo Silva Filho&#60;/p&#62;\n&#60;p&#62;Atenciosamente,&#60;/p&#62;\n&#60;p&#62;Equipe TAXI.RIO CIDADES&#60;/p&#62;",
         "2025-03-20 09:53:45",
         "7",
         "6"
        ],
        [
         "15",
         "356",
         "Verificação de cobrança",
         "&#60;p&#62;Bom dia, solicito verificação do status do pagamento ao taxista abaixo, da corrida efetuada no dia 12/02/2025, no valor de R$ 35,69.&#60;/p&#62;\n&#60;p&#62;&#60;strong&#62;O taxista informou a chave PIX: 05510391758 (CPF)&#60;/strong&#62;&#60;/p&#62;\n&#60;p&#62;&#60;strong&#62;ID da corrida: 67acbb77008b7000156cea27&#60;/strong&#62;&#60;/p&#62;\n&#60;p&#62;E-mail: alexandronunes1723@gmail.com&#60;br&#62;Id: 5cd1aae46398e96955ca630e&#60;br&#62;RATR: 837929&#60;br&#62;Nome: Alexandro Gomes da Silva&#60;/p&#62;\n&#60;p&#62;Atenciosamente,&#60;/p&#62;\n&#60;p&#62;Equipe TAXI.RIO CIDADES&#60;/p&#62;",
         "2025-03-19 10:32:22",
         "7",
         "6"
        ],
        [
         "16",
         "355",
         "Verificação de cobrança",
         "&#60;p&#62;Bom dia, solicito verificação do status do pagamento ao taxista abaixo, da corrida efetuada no dia 22/02/2025, no valor de R$ 80,44. Este caso está relacionado como \"Corrida em análise\", por se tratar de aparente disparidade entre o valor previsto  o valor efetivamente cobrado do passageiro. Esta corrida já foi validada em nossa plataforma.&#60;/p&#62;\n&#60;p&#62;&#60;strong&#62;Id da corrida: 67b9d42d8a473c00159d0d01&#60;/strong&#62;&#60;/p&#62;\n&#60;p&#62;&#60;strong&#62;O taxista informou a chave PIX: 12685212728 (CPF)&#60;/strong&#62;&#60;/p&#62;\n&#60;p&#62;Dados do passageiro:&#60;br&#62;E-mail: fabriziobittar@hotmail.com&#60;br&#62;Id: 5c1e29cdb3cb1f0141eb4ee2&#60;br&#62;Nome: Fabrizio Bittar v Silva&#60;/p&#62;\n&#60;p&#62;Dados do taxista&#60;br&#62;E-mail: diego_freeride@hotmail.com&#60;br&#62;Id: 59f9392a6398e92ce04e4e62&#60;br&#62;RATR: 1090180&#60;br&#62;Nome: Diego Damiao Vasconcellos Sales Barga                &#60;/p&#62;\n&#60;p&#62;Atenciosamente,&#60;/p&#62;\n&#60;p&#62;Equipe TAXI.RIO CIDADES&#60;/p&#62;",
         "2025-03-14 10:43:06",
         "7",
         "6"
        ],
        [
         "17",
         "354",
         "Verificação de cobrança",
         "&#60;p&#62;Boa tarde, solicito verificação do status do pagamento ao taxista abaixo, da corrida efetuada no dia 23/02/2025, no valor de R$ 113,46. Este caso está relacionado como \"Corrida em análise\", por se tratar de aparente disparidade entre o valor previsto  o valor efetivamente cobrado do passageiro. Esta corrida já foi validada em nossa plataforma.&#60;/p&#62;\n&#60;p&#62;&#60;strong&#62;Id da corrida: 67baa4851f931700158fb97b&#60;/strong&#62;&#60;/p&#62;\n&#60;p&#62;&#60;strong&#62;O taxista informou a chave PIX: 21968467110 (Celular)&#60;/strong&#62;&#60;/p&#62;\n&#60;p&#62;Dados do passageiro:&#60;br&#62;E-mail: anarebito2@gmail.com&#60;br&#62;Id: 5a6f263d6398e90c1aaade44&#60;br&#62;Nome: Ana Cristina de Oliveira Rebito&#60;/p&#62;\n&#60;p&#62;Dados do taxista&#60;br&#62;E-mail: marcelodesa68@gmail.com&#60;br&#62;Id: 5bb262796398e975caf9946c&#60;br&#62;RATR: 801439&#60;br&#62;Nome: Marcelo Owczarek de Sa                &#60;/p&#62;\n&#60;p&#62;Atenciosamente,&#60;/p&#62;\n&#60;p&#62;Equipe TAXI.RIO CIDADES&#60;/p&#62;",
         "2025-03-13 13:20:58",
         "7",
         "6"
        ],
        [
         "18",
         "353",
         "Verificação de cobrança",
         "&#60;p&#62;Bom dia, solicito verificação do status do pagamento ao taxista abaixo, da corrida efetuada no dia 24/02/2025, no valor de R$ 68,11.&#60;/p&#62;\n&#60;p&#62;&#60;strong&#62;O taxista informou a chave PIX: 01098237706 (CPF)&#60;/strong&#62;&#60;/p&#62;\n&#60;p&#62;E-mail: wsalgado114@hotmail.com&#60;br&#62;Id: 59f93da16398e92ce04e5b0f&#60;br&#62;RATR: 781800&#60;br&#62;Nome: Wallace Salgado de Oliveira&#60;/p&#62;\n&#60;p&#62;Atenciosamente,&#60;/p&#62;\n&#60;p&#62;Equipe TAXI.RIO CIDADES&#60;/p&#62;",
         "2025-03-13 09:53:07",
         "7",
         "6"
        ],
        [
         "19",
         "352",
         "Verificação de cobrança",
         "&#60;p&#62;Bom dia, solicito verificação do status do pagamento ao taxista abaixo, das corridas efetuadas nos dias 19/02/2025, no valor de R$ 24,71 20/02/2025, no valor de R$ 46,34.&#60;/p&#62;\n&#60;p&#62;&#60;strong&#62;O taxista informou a chave PIX: 00548225729 (CPF)&#60;/strong&#62;&#60;/p&#62;\n&#60;p&#62;E-mail: mabosco43@gmail.com&#60;br&#62;Id: 5a1eb7146398e9416a4aeb91&#60;br&#62;RATR: 745938&#60;br&#62;Nome: Marcelo Alves Caetano&#60;/p&#62;\n&#60;p&#62;Atenciosamente,&#60;/p&#62;\n&#60;p&#62;Equipe TAXI.RIO CIDADES&#60;/p&#62;",
         "2025-03-12 12:24:25",
         "7",
         "6"
        ],
        [
         "20",
         "351",
         "Verificação de cobrança",
         "&#60;p&#62;Bom dia, solicito verificação do status do pagamento ao taxista abaixo, das corridas efetuadas no dia 23/02/2024, nos valores de R$ 22,07, R$ 22,52 e R$ 17,00, e no dia 28/02/2024, no valor de R$ 24,46.&#60;/p&#62;\n&#60;p&#62;&#60;strong&#62;O taxista não informou a chave PIX, afirmando já ter recebido normalmente outros valores anteriores.&#60;/strong&#62;&#60;/p&#62;\n&#60;p&#62;E-mail: andretaxiamarelinhorj@gmail.com&#60;br&#62;Id: 638f46eb24aa9a013a2cd813&#60;br&#62;RATR: 755400&#60;br&#62;Nome: Andre Luis Alves&#60;/p&#62;\n&#60;p&#62;Atenciosamente,&#60;/p&#62;\n&#60;p&#62;Equipe TAXI.RIO CIDADES&#60;/p&#62;",
         "2025-03-12 12:20:16",
         "7",
         "6"
        ],
        [
         "21",
         "350",
         "Verificação de cobrança",
         "&#60;p&#62;Bom dia, solicito verificação do status do pagamento ao taxista abaixo, da corrida efetuada no dia 10/02/2025, no valor de R$ 77,16.&#60;/p&#62;\n&#60;p&#62;&#60;strong&#62;O taxista informou a chave PIX: 11605323705 (CPF)&#60;/strong&#62;&#60;/p&#62;\n&#60;p&#62;E-mail: edson.a.r.barcelos@gmail.com&#60;br&#62;Id: 67096e65ee2c9f01593016bc&#60;br&#62;RATR: 1124303&#60;br&#62;Nome: Edson Alencar Ramos Barcelos&#60;/p&#62;\n&#60;p&#62;Atenciosamente,&#60;/p&#62;\n&#60;p&#62;Equipe TAXI.RIO CIDADES&#60;/p&#62;",
         "2025-03-11 11:18:47",
         "7",
         "6"
        ],
        [
         "22",
         "349",
         "Verificação de cobrança",
         "&#60;p&#62;Boa tarde, solicito verificação do status do pagamento ao taxista abaixo, das corridas efetuadas nos dias 19/02/2025, no valor de R$ 24,71 e 20/02/2025, no valor de R$ 46,34.&#60;/p&#62;\n&#60;p&#62;&#60;strong&#62;O taxista informou a chave PIX: 00548225729 (CPF)&#60;/strong&#62;&#60;/p&#62;\n&#60;p&#62;E-mail: mabosco43@gmail.com&#60;br&#62;Id: 5a1eb7146398e9416a4aeb91&#60;br&#62;RATR: 745938&#60;br&#62;Nome: Marcelo Alves Caetano&#60;/p&#62;\n&#60;p&#62;Atenciosamente,&#60;/p&#62;\n&#60;p&#62;Equipe TAXI.RIO CIDADES&#60;/p&#62;",
         "2025-03-10 17:00:26",
         "7",
         "6"
        ],
        [
         "23",
         "348",
         "Verificação de cobrança",
         "&#60;p&#62;Bom dia, solicito verificação do status do pagamento ao taxista abaixo, da corrida efetuada no dia 26/02/2025, no valor de R$ 79,01. Este caso está relacionado como \"erro no pagamento\". Esta corrida já validada em nossa plataforma.&#60;/p&#62;\n&#60;p&#62;&#60;strong&#62;O taxista informou a chave PIX: 21995580000 (Celular)&#60;/strong&#62;&#60;/p&#62;\n&#60;p&#62;&#60;strong&#62;Id da corrida: 67bf29219ab80d00159ad8ba&#60;/strong&#62;&#60;/p&#62;\n&#60;p&#62;E-mail: borgesacb@gmail.com&#60;br&#62;Id: 59f9471c6398e92ce04e75b6&#60;br&#62;RATR: 1046231&#60;br&#62;Nome: Adriano da Cruz Borges&#60;/p&#62;\n&#60;p&#62;Atenciosamente,&#60;/p&#62;\n&#60;p&#62;Equipe TAXI.RIO CIDADES&#60;/p&#62;",
         "2025-03-10 12:22:26",
         "7",
         "6"
        ],
        [
         "24",
         "347",
         "Verificação de cobrança",
         "&#60;p&#62;Bom dia, solicito verificação do status do pagamento ao taxista abaixo, da corrida efetuada no dia 06/02/2025, no valor de R$ 32,65.&#60;/p&#62;\n&#60;p&#62;&#60;strong&#62;O taxista informou a chave PIX: 21972808317 (Celular)&#60;/strong&#62;&#60;/p&#62;\n&#60;p&#62;E-mail: nascimentogm2011@gmail.com&#60;br&#62;Id: 5d8a3ce96398e94c134a30a8&#60;br&#62;RATR: 1116849&#60;br&#62;Nome: Alexandre Mendonça do Nascimento&#60;/p&#62;\n&#60;p&#62;Atenciosamente,&#60;/p&#62;\n&#60;p&#62;Equipe TAXI.RIO CIDADES&#60;/p&#62;",
         "2025-03-07 09:41:27",
         "7",
         "6"
        ],
        [
         "25",
         "346",
         "Verificação de cobrança",
         "&#60;p&#62;Boa tarde, solicito verificação do status do pagamento ao taxista abaixo, da corrida efetuada no dia 15/02/2025, no valor de R$ 28,12.&#60;/p&#62;\n&#60;p&#62;&#60;strong&#62;O taxista informou a chave PIX: 21987680712 (Celular)&#60;/strong&#62;&#60;/p&#62;\n&#60;p&#62;E-mail: fabioaraujo622@gmail.com&#60;br&#62;Id: 5a257c966398e9416ae95be4&#60;br&#62;RATR: 1046287&#60;br&#62;Nome: Fabio de Araujo Mesquita&#60;/p&#62;\n&#60;p&#62;Atenciosamente,&#60;/p&#62;\n&#60;p&#62;Equipe TAXI.RIO CIDADES&#60;/p&#62;",
         "2025-02-27 16:40:13",
         "7",
         "6"
        ],
        [
         "26",
         "345",
         "Verificação de cobrança",
         "&#60;p&#62;Bom dia, solicito verificação do status do pagamento ao taxista abaixo, da corrida efetuada no dia 14/02/2025, no valor de R$ 155,39.&#60;/p&#62;\n&#60;p&#62;&#60;strong&#62;O taxista informou a chave PIX: 21964277814 (Celular)&#60;/strong&#62;&#60;/p&#62;\n&#60;p&#62;E-mail: cristianoreiscosta@gmail.com&#60;br&#62;Id: 64c9465025e4390151ec0cdf&#60;br&#62;RATR: 1125433&#60;br&#62;Nome: Cristiano Reis Dias da Costa&#60;/p&#62;\n&#60;p&#62;Atenciosamente,&#60;/p&#62;\n&#60;p&#62;Equipe TAXI.RIO CIDADES&#60;/p&#62;",
         "2025-02-27 10:41:58",
         "7",
         "6"
        ],
        [
         "27",
         "344",
         "Verificação de cobrança",
         "&#60;p&#62;Boa tarde, solicito verificação do status do pagamento ao taxista abaixo, da corrida efetuada no dia 15/02/2025, no valor de R$ 127,11.&#60;/p&#62;\n&#60;p&#62;&#60;strong&#62;O taxista informou a chave PIX: 07630841744 (CPF)&#60;/strong&#62;&#60;/p&#62;\n&#60;p&#62;E-mail: sm6244977@gmail.com&#60;br&#62;Id: 5ab13ba56398e96d80e63628&#60;br&#62;RATR: 1037203&#60;br&#62;Nome: Alex Sandro Mendes Barbosa&#60;/p&#62;\n&#60;p&#62;Atenciosamente,&#60;/p&#62;\n&#60;p&#62;Equipe TAXI.RIO CIDADES&#60;/p&#62;",
         "2025-02-26 14:55:44",
         "7",
         "6"
        ],
        [
         "28",
         "343",
         "Verificação de cobrança",
         "&#60;p&#62;Boa tarde, solicito verificação do status do pagamento ao taxista abaixo, da corrida efetuada no dia 15/02/2025, no valor de R$ 63,52.&#60;/p&#62;\n&#60;p&#62;&#60;strong&#62;O taxista informou a chave PIX: 21964296348 (Celular)&#60;/strong&#62;&#60;/p&#62;\n&#60;p&#62;E-mail: brunofs.consultor@gmail.com&#60;br&#62;Id: 59f9346b6398e92ce04e40d8&#60;br&#62;RATR: 1025263&#60;br&#62;Nome: Bruno Figueiredo de Souza&#60;/p&#62;\n&#60;p&#62;Atenciosamente,&#60;/p&#62;\n&#60;p&#62;Equipe TAXI.RIO CIDADES&#60;/p&#62;",
         "2025-02-26 14:45:47",
         "7",
         "6"
        ],
        [
         "29",
         "342",
         "Verificação de cobrança",
         "&#60;p&#62;Bom dia, solicito verificação do status do pagamento ao taxista abaixo, da corrida efetuada no dia 11/02/2025, no valor de R$ 83,76.&#60;/p&#62;\n&#60;p&#62;&#60;strong&#62;O taxista informou a chave PIX: 21964227972 (Celular)&#60;/strong&#62;&#60;/p&#62;\n&#60;p&#62;E-mail: josecarloscarreiro69@gmail.com&#60;br&#62;Id: 5ab111166398e96d80e634de&#60;br&#62;RATR: 1021864&#60;br&#62;Nome: Jose Carlos Carreiro&#60;/p&#62;\n&#60;p&#62;Atenciosamente,&#60;/p&#62;\n&#60;p&#62;Equipe TAXI.RIO CIDADES&#60;/p&#62;",
         "2025-02-26 10:55:36",
         "7",
         "6"
        ],
        [
         "30",
         "341",
         "Verificação de cobrança",
         "&#60;p&#62;Boa tarde, solicito verificação do status do pagamento ao taxista abaixo, da corrida efetuada no dia 27/11/2024, no valor de R$ 32,18.&#60;/p&#62;\n&#60;p&#62;&#60;strong&#62;O taxista informou a chave PIX: 21996714156 (Celular)&#60;/strong&#62;&#60;/p&#62;\n&#60;p&#62;E-mail: marcosliberatocarneiro@gmail.com&#60;br&#62;Id: 59f9368b6398e92ce04e46e9&#60;br&#62;RATR: 1030023&#60;br&#62;Nome: Marcos Liberato Carneiro&#60;/p&#62;\n&#60;p&#62;Atenciosamente,&#60;/p&#62;\n&#60;p&#62;Equipe TAXI.RIO CIDADES&#60;/p&#62;",
         "2025-02-24 15:29:49",
         "7",
         "6"
        ],
        [
         "31",
         "339",
         "Verificação de cobrança",
         "&#60;p&#62;Boa tarde, solicito verificação do status do pagamento ao taxista abaixo, das corridas efetuadas no dia 21/10/2024, no valor de R$ 24,97, no dia 28/10/2024, no valor de R$ 19,81, no dia 01/11/2024, no valor de R$ 37,53 e no dia 10/02/2024, no valor de R$ 37,42.&#60;/p&#62;\n&#60;p&#62;&#60;strong&#62;O taxista informou a chave PIX: 21965864329 (Celular)&#60;/strong&#62;&#60;/p&#62;\n&#60;p&#62;E-mail: denilsoncavalcante17@gmail.com&#60;br&#62;Id: 5f0488ff6398e95418dfcb1f&#60;br&#62;RATR: 1103111&#60;br&#62;Nome: Denilson Silva Cavalcante                &#60;/p&#62;\n&#60;p&#62;Atenciosamente,&#60;/p&#62;\n&#60;p&#62;Equipe TAXI.RIO CIDADES&#60;/p&#62;",
         "2025-02-21 16:16:16",
         "7",
         "6"
        ],
        [
         "32",
         "338",
         "Verificação de cobrança",
         "&#60;p&#62;Boa tarde, solicito verificação do status do pagamento ao taxista abaixo, das corridas efetuadas nos dias 05/02/2024, no valor de R$ 21,00, 06/02/2024, no valor de R$ 42,46 e 07/02/2024, no valor de R$ 35,40.&#60;/p&#62;\n&#60;p&#62;&#60;strong&#62;O taxista informou a chave PIX: 21967607270 (Celular)&#60;/strong&#62;&#60;/p&#62;\n&#60;p&#62;E-mail: silviocon@gmail.com&#60;br&#62;Id: 5aa025986398e96d80e5da4e&#60;br&#62;RATR: 1096680&#60;br&#62;Nome: Silvio Cesar Conti&#60;/p&#62;\n&#60;p&#62;Atenciosamente,&#60;/p&#62;\n&#60;p&#62;Equipe TAXI.RIO CIDADES&#60;/p&#62;",
         "2025-02-20 15:35:23",
         "7",
         "6"
        ],
        [
         "33",
         "337",
         "Verificação de cobrança",
         "&#60;p&#62;Bom dia, solicito verificação do status do pagamento ao taxista abaixo, da corrida efetuada no dia 10/02/2025, no valor de R$ 34,74.&#60;/p&#62;\n&#60;p&#62;&#60;strong&#62;O taxista informou a chave PIX: 21971725702 (Celular)&#60;/strong&#62;&#60;/p&#62;\n&#60;p&#62;E-mail: d.fernandes09@yahoo.com.br&#60;br&#62;Id: 5f3ff7436398e95418dfd3e0&#60;br&#62;RATR: 1076243&#60;br&#62;Nome: Denilson de Sa Fernandes&#60;/p&#62;\n&#60;p&#62;Atenciosamente,&#60;/p&#62;\n&#60;p&#62;Equipe TAXI.RIO CIDADES&#60;/p&#62;",
         "2025-02-20 11:28:34",
         "7",
         "6"
        ],
        [
         "34",
         "336",
         "Verificação de cobrança",
         "&#60;p&#62;Bom dia, solicito verificação do status do pagamento ao taxista abaixo, da corrida efetuada no dia 09/02/2025, no valor de R$ 62,86.&#60;/p&#62;\n&#60;p&#62;&#60;strong&#62;O taxista informou a chave PIX: 21978764894 (Celular)&#60;/strong&#62;&#60;/p&#62;\n&#60;p&#62;E-mail: mauricioborret@gmail.com&#60;br&#62;Id: 65a9442982dba501527e337d&#60;br&#62;RATR: 1122742&#60;br&#62;Nome: Mauricio Borret da Conceicao&#60;/p&#62;\n&#60;p&#62;Atenciosamente,&#60;/p&#62;\n&#60;p&#62;Equipe TAXI.RIO CIDADES&#60;/p&#62;",
         "2025-02-20 09:31:50",
         "7",
         "6"
        ],
        [
         "35",
         "335",
         "Verificação de cobrança",
         "&#60;p&#62;Boa tarde, solicito verificação do status do pagamento ao taxista abaixo, da corrida efetuada no dia 14/02/2025, no valor de R$ 49,66.&#60;/p&#62;\n&#60;p&#62;E-mail: a_diniz@globo.com&#60;br&#62;Id: 5c93a5b624aa9a0140f554d6&#60;br&#62;RATR: 1084725&#60;br&#62;Nome: Victor Diniz de Farias&#60;/p&#62;\n&#60;p&#62;Atenciosamente,&#60;/p&#62;\n&#60;p&#62;Equipe TAXI.RIO CIDADES&#60;/p&#62;",
         "2025-02-19 17:13:26",
         "7",
         "6"
        ],
        [
         "36",
         "334",
         "Verificação de cobrança",
         "&#60;p&#62;Bom dia, solicito verificação do status do pagamento ao taxista abaixo, da corrida efetuada no dia 12/02/2025, no valor de R$ 71,94.&#60;/p&#62;\n&#60;p&#62;&#60;strong&#62;O taxista informou a chave PIX: 21965929079 (Celular)&#60;/strong&#62;&#60;/p&#62;\n&#60;p&#62;E-mail: andersonramosdesouza09@gmail.com&#60;br&#62;Id: 5a96a9fb6398e93f808ec465&#60;br&#62;RATR: 1042528&#60;br&#62;Nome: Anderson Ramos de Souza&#60;/p&#62;\n&#60;p&#62;Atenciosamente,&#60;/p&#62;\n&#60;p&#62;Equipe TAXI.RIO CIDADES&#60;/p&#62;",
         "2025-02-19 11:36:42",
         "7",
         "6"
        ],
        [
         "37",
         "333",
         "Verificação de cobrança",
         "&#60;p&#62;Bom dia, solicito verificação do status do pagamento ao taxista abaixo, das corridas efetuadas no dia 08/02/2025, no valor de R$ 35,57 e no dia 11/02/2025, no valor de R$ 18,40.&#60;/p&#62;\n&#60;p&#62;&#60;strong&#62;O taxista informou a chave PIX: 21967686002 (Celular)&#60;/strong&#62;&#60;/p&#62;\n&#60;p&#62;E-mail: carloslima.rj@hotmail.com&#60;br&#62;Id: 61531a146398e95418e0030e&#60;br&#62;RATR: 1085570&#60;br&#62;Nome: Carlos Eduardo de Souza Lima&#60;/p&#62;\n&#60;p&#62;Atenciosamente,&#60;/p&#62;\n&#60;p&#62;Equipe TAXI.RIO CIDADES&#60;/p&#62;",
         "2025-02-19 11:24:40",
         "7",
         "6"
        ],
        [
         "38",
         "332",
         "Verificação de cobrança",
         "&#60;p&#62;Boa tarde, solicito verificação do status do pagamento ao taxista abaixo, da corrida efetuada no dia 13/02/2025, no valor de R$ 63,34.&#60;/p&#62;\n&#60;p&#62;&#60;strong&#62;O taxista informou a chave PIX: 21992838106 (Celular)&#60;/strong&#62;&#60;/p&#62;\n&#60;p&#62;E-mail: marco63antoniogomes@gmail.com&#60;br&#62;Id: 59f92e906398e92ce04e300c&#60;br&#62;RATR: 175320&#60;br&#62;Nome: Marco Antonio Gomes&#60;/p&#62;\n&#60;p&#62;Atenciosamente,&#60;/p&#62;\n&#60;p&#62;Equipe TAXI.RIO CIDADES&#60;/p&#62;",
         "2025-02-18 17:21:40",
         "7",
         "6"
        ],
        [
         "39",
         "331",
         "Verificação de cobrança",
         "&#60;p&#62;Boa tarde, solicito verificação do status do pagamento ao taxista abaixo, da corrida efetuada no dia 13/02/2025, no valor de R$ 39,57.&#60;/p&#62;\n&#60;p&#62;&#60;strong&#62;O taxista informou a chave PIX: 21996202233 (Celular)&#60;/strong&#62;&#60;/p&#62;\n&#60;p&#62;E-mail: thiegoretore@hotmail.com&#60;br&#62;Id: 5b8046806398e96bdaa5c291&#60;br&#62;RATR: 1043039&#60;br&#62;Nome: Thiego Retore Rebouças de Albuquerque&#60;/p&#62;\n&#60;p&#62;Atenciosamente,&#60;/p&#62;\n&#60;p&#62;Equipe TAXI.RIO CIDADES&#60;/p&#62;",
         "2025-02-18 12:46:45",
         "7",
         "6"
        ],
        [
         "40",
         "330",
         "Verificação de cobrança",
         "&#60;p&#62;Boa tarde, solicito verificação do status do pagamento ao taxista abaixo, da corrida efetuada no dia 11/02/2025, no valor de R$ 96,94.&#60;/p&#62;\n&#60;p&#62;&#60;strong&#62;O taxista informou a chave PIX: 05552450710 (CPF)&#60;/strong&#62;&#60;/p&#62;\n&#60;p&#62;E-mail: fbs1984@outlook.com&#60;br&#62;Id: 59f935f26398e92ce04e4535&#60;br&#62;RATR: 1065439&#60;br&#62;Nome: Fernando Bruno Santos&#60;/p&#62;\n&#60;p&#62;Atenciosamente,&#60;/p&#62;\n&#60;p&#62;Equipe TAXI.RIO CIDADES&#60;/p&#62;",
         "2025-02-18 12:42:31",
         "7",
         "6"
        ],
        [
         "41",
         "329",
         "Verificação de cobrança",
         "&#60;p&#62;Bom dia, solicito verificação do pagamento ao taxista abaixo, da corrida efetuada no dia 14/02/2025, no valor de R$ 22,79. Ele reclama que deveria ter recebido ontem, mas recebeu hoje apenas. Solicito cópia do comprovante, para análise do caso.&#60;/p&#62;\n&#60;p&#62;E-mail: rodrigopuro@hotmail.com&#60;br&#62;Id: 59f938eb6398e92ce04e4dae&#60;br&#62;RATR: 1037978&#60;br&#62;Nome: Rodrigo Ferreira de Brito&#60;/p&#62;\n&#60;p&#62;Atenciosamente,&#60;/p&#62;\n&#60;p&#62;Equipe TAXI.RIO CIDADES&#60;/p&#62;",
         "2025-02-18 10:42:09",
         "7",
         "6"
        ],
        [
         "42",
         "328",
         "Verificação de cobrança",
         "&#60;p&#62;Boa tarde, solicito verificação do status do pagamento ao taxista abaixo, da corrida efetuada no dia 26/01/2025, no valor de R$ 69,11&#60;/p&#62;\n&#60;p&#62;&#60;strong&#62;O taxista informou a chave PIX: 21964717218 (Celular)&#60;/strong&#62;&#60;/p&#62;\n&#60;p&#62;E-mail: jrpestana10@yahoo.com.br&#60;br&#62;Id: 5f903e496398e95418dfdde7&#60;br&#62;RATR: 1094385&#60;br&#62;Nome: Jose Roberto Pestana&#60;/p&#62;\n&#60;p&#62;Atenciosamente,&#60;/p&#62;\n&#60;p&#62;Equipe TAXI.RIO CIDADES&#60;/p&#62;",
         "2025-02-14 17:33:32",
         "7",
         "6"
        ],
        [
         "43",
         "327",
         "Verificação de cobrança",
         "&#60;p&#62;Boa tarde, solicito verificação do status do pagamento ao taxista abaixo, das corridas efetuadas nos dias 28/10/2024, no valor de R$ 11,09, 29/11/2024, no valor de R$ 10,54 e 03/02/2025, no valor de R$ 22,76.&#60;/p&#62;\n&#60;p&#62;&#60;strong&#62;O taxista informou a chave PIX: 21970551166 (Celular)&#60;/strong&#62;&#60;/p&#62;\n&#60;p&#62;E-mail: marciokwt@gmail.com&#60;br&#62;Id: 62a3493e6398e95418e0211d&#60;br&#62;RATR: 1011366&#60;br&#62;Nome: Marcio Andrade Torres&#60;/p&#62;\n&#60;p&#62;Atenciosamente,&#60;/p&#62;\n&#60;p&#62;Equipe TAXI.RIO CIDADES&#60;/p&#62;",
         "2025-02-13 17:27:01",
         "7",
         "6"
        ],
        [
         "44",
         "326",
         "Verificação de cobrança",
         "&#60;p&#62;Boa tarde, solicito verificação do status do pagamento ao taxista abaixo, da corrida efetuada no dia 12/01/2025, no valor de R$ 30,50.&#60;/p&#62;\n&#60;p&#62;&#60;strong&#62;O taxista informou a chave PIX: 01613104782 (CPF)&#60;/strong&#62;&#60;/p&#62;\n&#60;p&#62;E-mail: jailson.oliveirasantana70@gmail.com&#60;br&#62;Id: 67409ba0dab29c01599f5007&#60;br&#62;RATR: 1128761&#60;br&#62;Nome: Jailson de Oliveira Santana&#60;/p&#62;\n&#60;p&#62;Atenciosamente,&#60;/p&#62;\n&#60;p&#62;Equipe TAXI.RIO CIDADES&#60;/p&#62;",
         "2025-02-12 13:32:43",
         "7",
         "6"
        ],
        [
         "45",
         "325",
         "Verificação de cobrança",
         "&#60;p&#62;Bom dia, solicito verificação do status do pagamento ao taxista abaixo, da corrida efetuada no dia 31/01/2025, no valor de R$ 114,60.&#60;/p&#62;\n&#60;p&#62;&#60;strong&#62;O taxista informou a chave PIX: 07682210729 (CPF)&#60;/strong&#62;&#60;/p&#62;\n&#60;p&#62;E-mail: carloseduardoportuga@hotmail.com&#60;br&#62;Id: 64677de0dac2180158e39dde&#60;br&#62;RATR: 1124838&#60;br&#62;Nome: Carlos Eduardo Corvello de Mattos&#60;/p&#62;\n&#60;p&#62;Atenciosamente,&#60;/p&#62;\n&#60;p&#62;Equipe TAXI.RIO CIDADES&#60;/p&#62;",
         "2025-02-11 11:03:16",
         "7",
         "6"
        ],
        [
         "46",
         "324",
         "Verificação de cobrança",
         "&#60;p&#62;Boa tarde, solicito verificação do status do pagamento ao taxista abaixo, das corridas efetuadas no dia 04/02/2025, no valor de R$ 106,26 e no valor de R$ 46,66.&#60;/p&#62;\n&#60;p&#62;&#60;strong&#62;O taxista informou a chave PIX: 21992754235 (Celular)&#60;/strong&#62;&#60;/p&#62;\n&#60;p&#62;E-mail: matheus.sr1998@gmail.com&#60;br&#62;Id: 1118970&#60;br&#62;RATR: 5f50f6fe6398e95418dfd686&#60;br&#62;Nome: Matheus da Silva Rodrigues                &#60;/p&#62;\n&#60;p&#62;Atenciosamente,&#60;/p&#62;\n&#60;p&#62;Equipe TAXI.RIO CIDADES&#60;/p&#62;",
         "2025-02-10 17:03:07",
         "7",
         "6"
        ],
        [
         "47",
         "323",
         "Verificação de cobrança",
         "&#60;p&#62;Bom dia, solicito verificação do status do pagamento ao taxista abaixo, da corrida efetuada no dia 17/01/2025, no valor de R$ 43,57.&#60;/p&#62;\n&#60;p&#62;&#60;strong&#62;O taxista informou a chave PIX: 21965720576 (Celular)&#60;/strong&#62;&#60;/p&#62;\n&#60;p&#62;E-mail: alexlirio39@gmail.com&#60;br&#62;Id: 5e1f10ff6398e94464fb72b8&#60;br&#62;RATR: 1048339&#60;br&#62;Nome: Alex da Silva Lirio                &#60;/p&#62;\n&#60;p&#62;Atenciosamente,&#60;/p&#62;\n&#60;p&#62;Equipe TAXI.RIO CIDADES&#60;/p&#62;",
         "2025-02-10 15:45:55",
         "7",
         "6"
        ],
        [
         "48",
         "322",
         "Verificação de cobrança",
         "&#60;p&#62;Bom dia, solicito verificação do status do pagamento ao taxista abaixo, da corrida efetuada no dia 04/01/2025, no valor de R$ 27,87.&#60;/p&#62;\n&#60;p&#62;O taxista informou a chave PIX: 21964337089 (Celular)&#60;/p&#62;\n&#60;p&#62;E-mail: valdasilva07@gmail.com&#60;br&#62;Id: 59f944c66398e92ce04e6f2e&#60;br&#62;RATR: 759070&#60;br&#62;Nome: Valdeci da Silva&#60;/p&#62;\n&#60;p&#62;Atenciosamente,&#60;/p&#62;\n&#60;p&#62;Equipe TAXI.RIO CIDADES&#60;/p&#62;",
         "2025-02-06 12:08:52",
         "7",
         "6"
        ],
        [
         "49",
         "321",
         "Verificação de cobrança",
         "&#60;p&#62;Bom dia, solicito verificação do status do pagamento ao taxista abaixo, das corridas efetuadas no dia 29/11/2024, no valor de R$ 98,15, no dia 07/12/2024, no valor de R$ 127,16 e no dia 09/12/2024, no valor de R$ 20,94.&#60;/p&#62;\n&#60;p&#62;&#60;strong&#62;O taxista informou a chave PIX: 21974743323 (Celular)&#60;/strong&#62;&#60;/p&#62;\n&#60;p&#62;E-mail: lec1708@gmail.com&#60;br&#62;Id: 6399cfdfadbe1d013bac4006&#60;br&#62;RATR: 1123630&#60;br&#62;Nome: Cesar Augusto Vasconcelos&#60;/p&#62;\n&#60;p&#62;Atenciosamente,&#60;/p&#62;\n&#60;p&#62;Equipe TAXI.RIO CIDADES&#60;/p&#62;",
         "2025-02-06 09:53:47",
         "7",
         "6"
        ]
       ],
       "shape": {
        "columns": 6,
        "rows": 252
       }
      },
      "text/html": [
       "<div>\n",
       "<style scoped>\n",
       "    .dataframe tbody tr th:only-of-type {\n",
       "        vertical-align: middle;\n",
       "    }\n",
       "\n",
       "    .dataframe tbody tr th {\n",
       "        vertical-align: top;\n",
       "    }\n",
       "\n",
       "    .dataframe thead th {\n",
       "        text-align: right;\n",
       "    }\n",
       "</style>\n",
       "<table border=\"1\" class=\"dataframe\">\n",
       "  <thead>\n",
       "    <tr style=\"text-align: right;\">\n",
       "      <th></th>\n",
       "      <th>id</th>\n",
       "      <th>name</th>\n",
       "      <th>content</th>\n",
       "      <th>date</th>\n",
       "      <th>users_id_recipient</th>\n",
       "      <th>status</th>\n",
       "    </tr>\n",
       "  </thead>\n",
       "  <tbody>\n",
       "    <tr>\n",
       "      <th>0</th>\n",
       "      <td>373</td>\n",
       "      <td>Verificação de cobrança</td>\n",
       "      <td>&amp;#60;p&amp;#62;Boa tarde, solicito verificação do ...</td>\n",
       "      <td>2025-04-02 17:11:40</td>\n",
       "      <td>7</td>\n",
       "      <td>6</td>\n",
       "    </tr>\n",
       "    <tr>\n",
       "      <th>1</th>\n",
       "      <td>372</td>\n",
       "      <td>Verificação de cobrança</td>\n",
       "      <td>&amp;#60;p&amp;#62;Boa tarde, solicito verificação do ...</td>\n",
       "      <td>2025-04-02 14:20:00</td>\n",
       "      <td>7</td>\n",
       "      <td>5</td>\n",
       "    </tr>\n",
       "    <tr>\n",
       "      <th>2</th>\n",
       "      <td>371</td>\n",
       "      <td>Verificação de cobrança</td>\n",
       "      <td>&amp;#60;p&amp;#62;Bom dia, solicito verificação do st...</td>\n",
       "      <td>2025-04-02 12:49:44</td>\n",
       "      <td>7</td>\n",
       "      <td>5</td>\n",
       "    </tr>\n",
       "    <tr>\n",
       "      <th>3</th>\n",
       "      <td>370</td>\n",
       "      <td>Verificação de cobrança</td>\n",
       "      <td>&amp;#60;p&amp;#62;Bom dia, solicito verificação do st...</td>\n",
       "      <td>2025-04-02 12:34:54</td>\n",
       "      <td>7</td>\n",
       "      <td>6</td>\n",
       "    </tr>\n",
       "    <tr>\n",
       "      <th>4</th>\n",
       "      <td>368</td>\n",
       "      <td>Verificação de cobrança</td>\n",
       "      <td>&amp;#60;p&amp;#62;Bom dia, solicito verificação do st...</td>\n",
       "      <td>2025-04-01 12:23:13</td>\n",
       "      <td>7</td>\n",
       "      <td>6</td>\n",
       "    </tr>\n",
       "    <tr>\n",
       "      <th>...</th>\n",
       "      <td>...</td>\n",
       "      <td>...</td>\n",
       "      <td>...</td>\n",
       "      <td>...</td>\n",
       "      <td>...</td>\n",
       "      <td>...</td>\n",
       "    </tr>\n",
       "    <tr>\n",
       "      <th>247</th>\n",
       "      <td>40</td>\n",
       "      <td>Verificação de cobrança</td>\n",
       "      <td>&amp;#60;p&amp;#62;&amp;#60;br&amp;#62;Bom dia, solicito verif...</td>\n",
       "      <td>2024-10-16 14:57:01</td>\n",
       "      <td>7</td>\n",
       "      <td>6</td>\n",
       "    </tr>\n",
       "    <tr>\n",
       "      <th>248</th>\n",
       "      <td>39</td>\n",
       "      <td>Verificação de cobrança</td>\n",
       "      <td>&amp;#60;p&amp;#62;Boa tarde, solicito verificação do ...</td>\n",
       "      <td>2024-10-16 13:52:05</td>\n",
       "      <td>7</td>\n",
       "      <td>6</td>\n",
       "    </tr>\n",
       "    <tr>\n",
       "      <th>249</th>\n",
       "      <td>38</td>\n",
       "      <td>Verificação de cobrança</td>\n",
       "      <td>&amp;#60;p&amp;#62;Boa tarde, solicito verificação do ...</td>\n",
       "      <td>2024-10-15 13:02:28</td>\n",
       "      <td>7</td>\n",
       "      <td>6</td>\n",
       "    </tr>\n",
       "    <tr>\n",
       "      <th>250</th>\n",
       "      <td>37</td>\n",
       "      <td>Verificação de cobrança</td>\n",
       "      <td>&amp;#60;p&amp;#62;Bom dia, solicito verificação do st...</td>\n",
       "      <td>2024-10-15 12:37:28</td>\n",
       "      <td>7</td>\n",
       "      <td>6</td>\n",
       "    </tr>\n",
       "    <tr>\n",
       "      <th>251</th>\n",
       "      <td>31</td>\n",
       "      <td>Verificação de pagamento</td>\n",
       "      <td>&amp;#60;p&amp;#62;Boa tarde, solicito verificação de ...</td>\n",
       "      <td>2024-10-11 14:42:34</td>\n",
       "      <td>7</td>\n",
       "      <td>6</td>\n",
       "    </tr>\n",
       "  </tbody>\n",
       "</table>\n",
       "<p>252 rows × 6 columns</p>\n",
       "</div>"
      ],
      "text/plain": [
       "      id                      name  \\\n",
       "0    373   Verificação de cobrança   \n",
       "1    372   Verificação de cobrança   \n",
       "2    371   Verificação de cobrança   \n",
       "3    370   Verificação de cobrança   \n",
       "4    368   Verificação de cobrança   \n",
       "..   ...                       ...   \n",
       "247   40   Verificação de cobrança   \n",
       "248   39   Verificação de cobrança   \n",
       "249   38   Verificação de cobrança   \n",
       "250   37   Verificação de cobrança   \n",
       "251   31  Verificação de pagamento   \n",
       "\n",
       "                                               content                 date  \\\n",
       "0    &#60;p&#62;Boa tarde, solicito verificação do ...  2025-04-02 17:11:40   \n",
       "1    &#60;p&#62;Boa tarde, solicito verificação do ...  2025-04-02 14:20:00   \n",
       "2    &#60;p&#62;Bom dia, solicito verificação do st...  2025-04-02 12:49:44   \n",
       "3    &#60;p&#62;Bom dia, solicito verificação do st...  2025-04-02 12:34:54   \n",
       "4    &#60;p&#62;Bom dia, solicito verificação do st...  2025-04-01 12:23:13   \n",
       "..                                                 ...                  ...   \n",
       "247  &#60;p&#62;&#60;br&#62;Bom dia, solicito verif...  2024-10-16 14:57:01   \n",
       "248  &#60;p&#62;Boa tarde, solicito verificação do ...  2024-10-16 13:52:05   \n",
       "249  &#60;p&#62;Boa tarde, solicito verificação do ...  2024-10-15 13:02:28   \n",
       "250  &#60;p&#62;Bom dia, solicito verificação do st...  2024-10-15 12:37:28   \n",
       "251  &#60;p&#62;Boa tarde, solicito verificação de ...  2024-10-11 14:42:34   \n",
       "\n",
       "     users_id_recipient  status  \n",
       "0                     7       6  \n",
       "1                     7       5  \n",
       "2                     7       5  \n",
       "3                     7       6  \n",
       "4                     7       6  \n",
       "..                  ...     ...  \n",
       "247                   7       6  \n",
       "248                   7       6  \n",
       "249                   7       6  \n",
       "250                   7       6  \n",
       "251                   7       6  \n",
       "\n",
       "[252 rows x 6 columns]"
      ]
     },
     "execution_count": 63,
     "metadata": {},
     "output_type": "execute_result"
    }
   ],
   "source": [
    "import pandas as pd\n",
    "\n",
    "dados_taxista = pd.read_csv(r'C:\\Users\\Erione Technologies\\Downloads\\glpi_tickets_202504111007.csv', sep=',')\n",
    "dados_taxista"
   ]
  },
  {
   "cell_type": "code",
   "execution_count": 64,
   "id": "4d531a94",
   "metadata": {},
   "outputs": [
    {
     "data": {
      "text/plain": [
       "0      &#60;p&#62;Boa tarde, solicito verificação do ...\n",
       "1      &#60;p&#62;Boa tarde, solicito verificação do ...\n",
       "2      &#60;p&#62;Bom dia, solicito verificação do st...\n",
       "3      &#60;p&#62;Bom dia, solicito verificação do st...\n",
       "4      &#60;p&#62;Bom dia, solicito verificação do st...\n",
       "                             ...                        \n",
       "247    &#60;p&#62;&#60;br&#62;Bom dia, solicito verif...\n",
       "248    &#60;p&#62;Boa tarde, solicito verificação do ...\n",
       "249    &#60;p&#62;Boa tarde, solicito verificação do ...\n",
       "250    &#60;p&#62;Bom dia, solicito verificação do st...\n",
       "251    &#60;p&#62;Boa tarde, solicito verificação de ...\n",
       "Name: content, Length: 252, dtype: object"
      ]
     },
     "execution_count": 64,
     "metadata": {},
     "output_type": "execute_result"
    }
   ],
   "source": [
    "dados_taxista['content']"
   ]
  },
  {
   "cell_type": "code",
   "execution_count": 65,
   "id": "de3d9dfa",
   "metadata": {},
   "outputs": [
    {
     "data": {
      "application/vnd.microsoft.datawrangler.viewer.v0+json": {
       "columns": [
        {
         "name": "index",
         "rawType": "int64",
         "type": "integer"
        },
        {
         "name": "followup_id",
         "rawType": "int64",
         "type": "integer"
        },
        {
         "name": "ticket_id",
         "rawType": "int64",
         "type": "integer"
        },
        {
         "name": "date",
         "rawType": "object",
         "type": "string"
        },
        {
         "name": "content",
         "rawType": "object",
         "type": "string"
        },
        {
         "name": "tecnico",
         "rawType": "object",
         "type": "string"
        }
       ],
       "conversionMethod": "pd.DataFrame",
       "ref": "81f94b8e-1cd3-40b4-868a-79b4f94ea283",
       "rows": [
        [
         "0",
         "1427",
         "383",
         "2025-04-10 15:48:44",
         "&#60;p&#62;Prezado José Madeira,&#60;br&#62; &#60;br&#62;Após verificação, constatamos que o status do pagamento referente à corrida realizada pelo taxista ainda está pendente. Confirmamos que o CPF/CNPJ do usuário recebedor está incorreto.&#60;/p&#62;\r\n&#60;p&#62;Poderia validar os dados do taxista?&#60;/p&#62;\r\n&#60;p&#62; &#60;br&#62;Atenciosamente,&#60;/p&#62;\r\n&#60;p&#62;Suporte VallePay&#60;/p&#62;",
         "carlos.ivanski"
        ],
        [
         "1",
         "1414",
         "382",
         "2025-04-08 17:12:54",
         "&#60;p&#62;Bom tarde, José Madeira,&#60;/p&#62;\r\n&#60;p&#62;Após nova verificação, identificamos que o pagamento referente à corrida realizada ainda está pendente devido ao erro: \"Número da conta transacional do PSP do Recebedor encerrada.\" Assim que o taxista atualizar os dados corretamente o repasse será realizado automaticamente.&#60;/p&#62;\r\n&#60;p&#62;Você poderia, por gentileza, entrar em contato com o taxista para tratar desse caso de atualização de cadastro?&#60;/p&#62;\r\n&#60;p&#62;Assim que os dados forem atualizados e o repasse concluído, retornarei com o envio do comprovante.&#60;/p&#62;\r\n&#60;p&#62;&#60;br&#62; &#60;br&#62;Atenciosamente,&#60;/p&#62;\r\n&#60;p&#62;Suporte VallePay&#60;/p&#62;",
         "carlos.ivanski"
        ],
        [
         "2",
         "1413",
         "381",
         "2025-04-08 16:59:14",
         "&#60;p&#62;Bom tarde, José Madeira,&#60;/p&#62;\r\n&#60;p&#62;Após nova verificação, identificamos que o pagamento referente à corrida realizada ainda está pendente devido ao erro: \"A instituição financeira do destinatário não está incluída no arranjo Pix.\" Assim que o taxista atualizar os dados corretamente o repasse será realizado automaticamente.&#60;/p&#62;\r\n&#60;p&#62;Você poderia, por gentileza, entrar em contato com o taxista para tratar desse caso de atualização de cadastro?&#60;/p&#62;\r\n&#60;p&#62;Assim que os dados forem atualizados e o repasse concluído, retornarei com o envio do comprovante.&#60;/p&#62;\r\n&#60;p&#62;&#60;br&#62; &#60;br&#62;Atenciosamente,&#60;/p&#62;\r\n&#60;p&#62;Suporte VallePay&#60;/p&#62;",
         "carlos.ivanski"
        ],
        [
         "3",
         "1409",
         "380",
         "2025-04-08 11:58:24",
         "&#60;p&#62;Prezado José Madeira,&#60;br&#62; &#60;br&#62;Após verificação, constatamos que o status do pagamento referente à corrida realizada pelo taxista ainda está pendente. Confirmamos que os dados bancários do taxista estão inválidos.&#60;/p&#62;\r\n&#60;p&#62;Contudo, identificamos em nossa base de dados que o taxista atualizou recentemente suas informações. Acreditamos que, com essa atualização, o repasse será efetuado normalmente.&#60;/p&#62;\r\n&#60;p&#62;Em breve retornaremos com o comprovante da transação.&#60;/p&#62;\r\n&#60;p&#62;&#60;br&#62; &#60;br&#62;Atenciosamente,&#60;/p&#62;\r\n&#60;p&#62;Suporte VallePay&#60;/p&#62;",
         "carlos.ivanski"
        ],
        [
         "4",
         "1408",
         "378",
         "2025-04-08 11:52:30",
         "&#60;p&#62;Bom dia, José Madeira,&#60;br&#62; &#60;br&#62;Após verificação, constatamos que o status do pagamento referente à corrida realizada pelo taxista ainda está pendente. Provavelmente por conta de dados cadastrais.&#60;/p&#62;\r\n&#60;p&#62;Poderia confirmar se a conta da taxista é poupança?&#60;/p&#62;\r\n&#60;p&#62; &#60;/p&#62;\r\n&#60;p&#62; &#60;br&#62;Atenciosamente,&#60;/p&#62;\r\n&#60;p&#62;Suporte VallePay&#60;/p&#62;",
         "carlos.ivanski"
        ],
        [
         "5",
         "1405",
         "377",
         "2025-04-08 10:12:43",
         "&#60;p&#62;Bom dia, José Madeira,&#60;/p&#62;\r\n&#60;p&#62;Precisamos que nos envie as informações da corrida, por gentileza.&#60;br&#62;A IPlanRio não solicitou a captura da transação, vamos precisar dessas informações para forçar a captura.&#60;/p&#62;\r\n&#60;p&#62; &#60;/p&#62;\r\n&#60;p&#62;Atenciosamente,&#60;/p&#62;\r\n&#60;p&#62;Suporte VallePay&#60;/p&#62;",
         "carlos.ivanski"
        ],
        [
         "6",
         "1393",
         "376",
         "2025-04-07 08:42:23",
         "&#60;p&#62;Bom dia, José Madeira&#60;br&#62;&#60;br&#62;Após verificação, constatamos que o status do pagamento referente à corrida realizada pelo taxista ainda está pendente. Confirmamos que o número da agência e/ou conta transacional do usuário recebedor inexistente ou inválido.&#60;br&#62;&#60;br&#62;Você poderia, por gentileza, verificar se os dados do taxista estão corretos? Caso haja alguma divergência, poderia nos encaminhar as informações atualizadas?&#60;/p&#62;\r\n&#60;p&#62; &#60;/p&#62;\r\n&#60;p&#62;Atenciosamente,&#60;/p&#62;\r\n&#60;p&#62;&#60;br&#62;Suporte VallePay&#60;/p&#62;",
         "carlos.ivanski"
        ],
        [
         "7",
         "1385",
         "374",
         "2025-04-03 17:09:15",
         "&#60;p&#62;Prezado José Madeira,&#60;br&#62; &#60;br&#62;Após verificação, constatamos que o status do pagamento referente à corrida realizada pelo taxista ainda está pendente. Confirmamos que os dados do taxista são inválidos.&#60;/p&#62;\r\n&#60;p&#62;Pedimos, por gentileza, que verifique os dados cadastrais do taxista e nos envie as informações corretas para regularização. &#60;/p&#62;\r\n&#60;p&#62;Em breve retornaremos com o comprovante da transação.&#60;/p&#62;\r\n&#60;p&#62;&#60;br&#62; &#60;br&#62;Atenciosamente,&#60;/p&#62;\r\n&#60;p&#62;Suporte VallePay&#60;/p&#62;",
         "carlos.ivanski"
        ],
        [
         "8",
         "1376",
         "373",
         "2025-04-02 17:13:44",
         "&#60;p&#62;Caro José Madeira,&#60;/p&#62;\r\n&#60;p&#62;Poderia nos fornecer o valor da corrida?&#60;/p&#62;\r\n&#60;p&#62; &#60;/p&#62;\r\n&#60;p&#62;Atenciosamente,&#60;/p&#62;\r\n&#60;p&#62;Suporte VallePay&#60;/p&#62;",
         "carlos.ivanski"
        ],
        [
         "9",
         "1375",
         "370",
         "2025-04-02 17:12:46",
         "&#60;p&#62;Caro José Madeira,&#60;br&#62; &#60;br&#62;Confirmamos que o repasse foi concluído com sucesso.&#60;/p&#62;\r\n&#60;p&#62;Porém, estou sem acesso ao extrato, assim que eu conseguir, irei enviar para você.&#60;/p&#62;\r\n&#60;p&#62;&#60;br&#62; &#60;br&#62;Atenciosamente,&#60;br&#62; &#60;br&#62;Suporte VallePay&#60;/p&#62;",
         "carlos.ivanski"
        ],
        [
         "10",
         "1374",
         "371",
         "2025-04-02 16:55:04",
         "&#60;p&#62;Prezado José Madeira,&#60;br&#62; &#60;br&#62;Após verificação, constatamos que o status do pagamento referente à corrida realizada pelo taxista ainda está pendente. Confirmamos que o tipo de conta transacional do PSP do Recebedor é inexistente ou inválido.&#60;/p&#62;\r\n&#60;p&#62;Pedimos, por gentileza, que verifique os dados cadastrais do taxista e nos envie as informações corretas para regularização.&#60;/p&#62;\r\n&#60;p&#62;Em breve retornaremos com o comprovante da transação.&#60;/p&#62;\r\n&#60;p&#62;&#60;br&#62; &#60;br&#62;Atenciosamente,&#60;/p&#62;\r\n&#60;p&#62;Suporte VallePay&#60;/p&#62;",
         "carlos.ivanski"
        ],
        [
         "11",
         "1373",
         "372",
         "2025-04-02 16:54:51",
         "&#60;p&#62;Prezado José Madeira,&#60;br&#62; &#60;br&#62;Após verificação, constatamos que o status do pagamento referente à corrida realizada pelo taxista ainda está pendente. Confirmamos que o tipo de conta transacional do PSP do Recebedor é inexistente ou inválido.&#60;/p&#62;\r\n&#60;p&#62;Pedimos, por gentileza, que verifique os dados cadastrais do taxista e nos envie as informações corretas para regularização.&#60;/p&#62;\r\n&#60;p&#62;Em breve retornaremos com o comprovante da transação.&#60;/p&#62;\r\n&#60;p&#62;&#60;br&#62; &#60;br&#62;Atenciosamente,&#60;/p&#62;\r\n&#60;p&#62;Suporte VallePay&#60;/p&#62;",
         "carlos.ivanski"
        ],
        [
         "12",
         "1358",
         "367",
         "2025-03-28 08:47:23",
         "&#60;p&#62;Bom dia, José Madeira,&#60;br&#62; &#60;br&#62;Após verificação, constatamos que o status do pagamento referente à corrida realizada pelo taxista ainda está pendente. Confirmamos que os dados do taxista não foram cadastrados.&#60;/p&#62;\r\n&#60;p&#62;Poderia nos fornecer os dados do taxista para que possamos cadastrá-los em nossa base de dados, por favor?&#60;/p&#62;\r\n&#60;p&#62;nome completo, documento, pix, tipo pix, dados bancários, tipo de conta bancária, ratr, cpf/cnpj&#60;/p&#62;\r\n&#60;p&#62;Em breve retornaremos com o comprovante da transação.&#60;/p&#62;\r\n&#60;p&#62;&#60;br&#62; &#60;br&#62;Atenciosamente,&#60;/p&#62;\r\n&#60;p&#62;Suporte VallePay&#60;/p&#62;",
         "carlos.ivanski"
        ],
        [
         "13",
         "1351",
         "364",
         "2025-03-27 10:27:49",
         "&#60;p&#62;Prezado José Madeira,&#60;/p&#62;\r\n&#60;p class=\"\" data-start=\"0\" data-end=\"286\"&#62;Após verificação, constatamos que o status do pagamento referente à corrida realizada pelo taxista ainda está pendente. Identificamos um erro no processamento do pagamento, pois a conta do taxista está cadastrada como poupança em nossa base de dados, quando deveria ser corrente.&#60;/p&#62;\r\n&#60;p class=\"\" data-start=\"288\" data-end=\"390\"&#62;Você poderia confirmar qual o tipo correto dessa conta para que possamos realizar o ajuste necessário?&#60;/p&#62;\r\n&#60;p class=\"\" data-start=\"288\" data-end=\"390\"&#62;Iremos realizar o repasse manual para a chave PIX fornecida.&#60;/p&#62;\r\n&#60;p&#62;Em breve retornaremos com o comprovante da transação.&#60;/p&#62;\r\n&#60;p&#62;&#60;br&#62; &#60;br&#62;Atenciosamente,&#60;/p&#62;\r\n&#60;p&#62;Suporte VallePay&#60;/p&#62;",
         "carlos.ivanski"
        ],
        [
         "14",
         "1350",
         "365",
         "2025-03-27 10:24:28",
         "&#60;p&#62;Bom dia, José Madeira,&#60;br&#62; &#60;br&#62;Após verificação, solicitamos que realize uma nova cobrança em nosso sistema com o valor correto, incluindo os dados do taxista e do passageiro envolvidos. Este caso está classificado como \"Corrida em análise\" devido à disparidade de valores. Quando isso ocorre, não recebemos a informação de conclusão da corrida em nossos sistemas, o que nos impede de registrar tanto o valor da corrida quanto os dados do taxista responsável.&#60;/p&#62;\r\n&#60;p&#62;Em breve retornaremos com o comprovante da transação.&#60;/p&#62;\r\n&#60;p&#62;&#60;br&#62; &#60;br&#62;Atenciosamente,&#60;/p&#62;\r\n&#60;p&#62;Suporte VallePay&#60;/p&#62;",
         "carlos.ivanski"
        ],
        [
         "15",
         "1349",
         "366",
         "2025-03-27 10:19:37",
         "&#60;p&#62;Bom dia, José Madeira,&#60;br&#62; &#60;br&#62;Após nova verificação, constatamos que o status do pagamento referente à corrida realizada pelo taxista ainda está pendente. Confirmamos que os dados do taxista não foram cadastrados.&#60;/p&#62;\r\n&#60;p&#62;Poderia nos fornecer os dados do taxista para que possamos cadastrá-los em nossa base de dados, por favor?&#60;/p&#62;\r\n&#60;p&#62;&#60;br&#62;Iremos realizar o repasse manual para a chave PIX fornecida.&#60;/p&#62;\r\n&#60;p&#62;Em breve retornaremos com o comprovante da transação.&#60;/p&#62;\r\n&#60;p&#62;&#60;br&#62; &#60;br&#62;Atenciosamente,&#60;/p&#62;\r\n&#60;p&#62;Suporte VallePay&#60;/p&#62;",
         "carlos.ivanski"
        ],
        [
         "16",
         "1341",
         "362",
         "2025-03-24 09:07:22",
         "&#60;p&#62;Prezado José Madeira,&#60;br&#62; &#60;br&#62;Após nova verificação, constatamos que o status do pagamento referente à corrida do dia 28/02/2025 realizada pelo taxista ainda está pendente. Confirmamos que houve um erro no processamento do pagamento.&#60;/p&#62;\r\n&#60;p&#62;Entretanto, na corrida do dia 01/03/2025, não foi possível localizar a corrida, você poderia nos fornecer o nome do passageiro para que possamos aprofundar a nossa busca?&#60;/p&#62;\r\n&#60;p&#62;Em breve retornaremos com o comprovante da transação.&#60;/p&#62;\r\n&#60;p&#62;&#60;br&#62; &#60;br&#62;Atenciosamente,&#60;/p&#62;\r\n&#60;p&#62;Suporte VallePay&#60;/p&#62;",
         "carlos.ivanski"
        ],
        [
         "17",
         "1336",
         "361",
         "2025-03-21 16:53:20",
         "&#60;p&#62;Caro José Madeira,&#60;br&#62; &#60;br&#62;Confirmamos que o repasse foi concluído com sucesso.&#60;/p&#62;\r\n&#60;p&#62;Porém, estou sem acesso ao extrato, assim que eu conseguir, irei enviar para você.&#60;/p&#62;\r\n&#60;p&#62;&#60;br&#62; &#60;br&#62;Atenciosamente,&#60;br&#62; &#60;br&#62;Suporte VallePay&#60;/p&#62;",
         "carlos.ivanski"
        ],
        [
         "18",
         "1335",
         "360",
         "2025-03-20 14:16:48",
         "&#60;p&#62;Caro José Madeira,&#60;br&#62; &#60;br&#62;Confirmamos que o repasse foi concluído com sucesso.&#60;/p&#62;\r\n&#60;p&#62;Segue em anexo, o comprovante do valor.&#60;/p&#62;\r\n&#60;p&#62;&#60;br&#62; &#60;br&#62;Atenciosamente,&#60;br&#62; &#60;br&#62;Suporte VallePay&#60;br&#62; &#60;/p&#62;",
         "carlos.ivanski"
        ],
        [
         "19",
         "1334",
         "359",
         "2025-03-20 10:57:08",
         "&#60;p&#62;Caro José Madeira,&#60;/p&#62;\r\n&#60;p&#62;Após análise, identificamos que os repasses não foram efetivados devido ao seguinte erro:&#60;/p&#62;\r\n&#60;p&#62;\"Número da agência e/ou conta transacional do usuário recebedor inexistente ou inválido.\"&#60;/p&#62;\r\n&#60;p&#62;Para resolver a situação, realizaremos o repasse manual de todas as corridas afetadas e enviaremos os respectivos comprovantes. Pedimos, por gentileza, que oriente o motorista a atualizar seu cadastro para evitar futuros transtornos.&#60;/p&#62;\r\n&#60;p&#62;Estamos à disposição para qualquer dúvida.&#60;/p&#62;\r\n&#60;p&#62; &#60;/p&#62;\r\n&#60;p&#62;Atenciosamente,&#60;/p&#62;\r\n&#60;p&#62;Suporte VallePay&#60;/p&#62;",
         "carlos.ivanski"
        ],
        [
         "20",
         "1333",
         "357",
         "2025-03-20 10:48:32",
         "&#60;p&#62;Caro José Madeira,&#60;br&#62; &#60;br&#62;Confirmamos que o repasse foi concluído com sucesso.&#60;/p&#62;\r\n&#60;p&#62;Segue em anexo, o comprovante do valor.&#60;/p&#62;\r\n&#60;p&#62;&#60;br&#62; &#60;br&#62;Atenciosamente,&#60;br&#62; &#60;br&#62;Suporte VallePay&#60;/p&#62;",
         "carlos.ivanski"
        ],
        [
         "21",
         "1332",
         "356",
         "2025-03-20 10:47:50",
         "&#60;p&#62;Caro José Madeira,&#60;br&#62; &#60;br&#62;Confirmamos que o repasse foi concluído com sucesso.&#60;/p&#62;\r\n&#60;p&#62;Segue em anexo, o comprovante do valor.&#60;/p&#62;\r\n&#60;p&#62;&#60;br&#62; &#60;br&#62;Atenciosamente,&#60;br&#62; &#60;br&#62;Suporte VallePay&#60;/p&#62;",
         "carlos.ivanski"
        ],
        [
         "22",
         "1323",
         "355",
         "2025-03-14 16:44:47",
         "&#60;p&#62;Caro José Madeira,&#60;/p&#62;\r\n&#60;p&#62;Após análise, concluímos que o taxista realmente possui apenas uma corrida em nossa base no dia 2025-02-22 14:01:00 cujo pagamento já foi efetuado a ele.&#60;/p&#62;\r\n&#60;p&#62;&#60;br&#62;Além disso todas corridas que temos cadastradas no dia 22-02-2025 no range de valor entre R$ 80,00 e 90,00 foram todas canceladas e o Fabrizio Bittar v Silva não era passageiro em nenhuma delas.&#60;/p&#62;\r\n&#60;p&#62;Você poderia nos fornecer mais algum dado que possa ajudar na nossa investigação?&#60;/p&#62;\r\n&#60;p&#62; &#60;/p&#62;\r\n&#60;p&#62;Atenciosamente,&#60;/p&#62;\r\n&#60;p&#62;Suporte VallePay&#60;/p&#62;",
         "carlos.ivanski"
        ],
        [
         "23",
         "1321",
         "353",
         "2025-03-13 16:59:30",
         "&#60;p&#62;Caro José Madeira,&#60;br&#62; &#60;br&#62;Confirmamos que o repasse foi concluído com sucesso.&#60;/p&#62;\r\n&#60;p&#62;Porém, estou sem acesso ao extrato, assim que eu conseguir, irei enviar para você.&#60;/p&#62;\r\n&#60;p&#62;&#60;br&#62; &#60;br&#62;Atenciosamente,&#60;br&#62; &#60;br&#62;Suporte VallePay&#60;br&#62; &#60;/p&#62;",
         "carlos.ivanski"
        ],
        [
         "24",
         "1320",
         "354",
         "2025-03-13 15:18:01",
         "&#60;p&#62;Caro José Madeira,&#60;/p&#62;\r\n&#60;p&#62;Após análise inicial, não conseguimos localizar a corrida com as informações fornecidas.&#60;/p&#62;\r\n&#60;p&#62;Se puder nos fornecer mais detalhes, isso nos ajudará bastante na reanálise.&#60;/p&#62;\r\n&#60;p&#62;Faremos uma nova revisão e entraremos em contato assim que tivermos alguma atualização.&#60;/p&#62;\r\n&#60;p&#62; &#60;/p&#62;\r\n&#60;p&#62;Atenciosamente,&#60;/p&#62;\r\n&#60;p&#62;Suporte VallePay&#60;/p&#62;",
         "carlos.ivanski"
        ],
        [
         "25",
         "1319",
         "352",
         "2025-03-13 14:57:53",
         "&#60;p&#62;Caro José Madeira,&#60;br&#62; &#60;br&#62;Confirmamos que o repasse foi concluído com sucesso.&#60;/p&#62;\r\n&#60;p&#62;Segue em anexo, o comprovante do valor.&#60;/p&#62;\r\n&#60;p&#62;&#60;br&#62; &#60;br&#62;Atenciosamente,&#60;br&#62; &#60;br&#62;Suporte VallePay&#60;br&#62; &#60;/p&#62;",
         "carlos.ivanski"
        ],
        [
         "26",
         "1318",
         "351",
         "2025-03-13 14:57:21",
         "&#60;p&#62;Caro José Madeira,&#60;br&#62; &#60;br&#62;Confirmamos que o repasse foi concluído com sucesso.&#60;/p&#62;\r\n&#60;p&#62;Segue em anexo, o comprovante do valor.&#60;/p&#62;\r\n&#60;p&#62;&#60;br&#62; &#60;br&#62;Atenciosamente,&#60;br&#62; &#60;br&#62;Suporte VallePay&#60;br&#62; &#60;/p&#62;",
         "carlos.ivanski"
        ],
        [
         "27",
         "1316",
         "350",
         "2025-03-11 12:30:20",
         "&#60;p&#62;Caro José Madeira,&#60;br&#62; &#60;br&#62;Confirmamos que o repasse foi concluído com sucesso.&#60;/p&#62;\r\n&#60;p&#62;Segue em anexo, o comprovante do valor.&#60;/p&#62;\r\n&#60;p&#62;&#60;br&#62; &#60;br&#62;Atenciosamente,&#60;br&#62; &#60;br&#62;Suporte VallePay&#60;br&#62; &#60;/p&#62;",
         "carlos.ivanski"
        ],
        [
         "28",
         "1308",
         "349",
         "2025-03-10 17:04:02",
         "&#60;p&#62;Caro José Madeira,&#60;/p&#62;\r\n&#60;p&#62;Estamos analisando esse caso.&#60;/p&#62;\r\n&#60;p&#62;Para que possamos ter mais precisão nos dados, poderia fornecer o nome do passageiro, por favor?&#60;/p&#62;\r\n&#60;p&#62; &#60;/p&#62;\r\n&#60;p&#62;Atenciosamente,&#60;/p&#62;\r\n&#60;p&#62;Suporte VallePay&#60;/p&#62;",
         "carlos.ivanski"
        ],
        [
         "29",
         "1306",
         "348",
         "2025-03-10 12:46:44",
         "&#60;p&#62;Caro José Madeira,&#60;/p&#62;\r\n&#60;p&#62;Estamos analisando esse caso.&#60;/p&#62;\r\n&#60;p&#62;Para que possamos ter mais precisão nos dados, poderia fornecer o nome do passageiro, por favor?&#60;/p&#62;\r\n&#60;p&#62; &#60;/p&#62;\r\n&#60;p&#62;Atenciosamente,&#60;/p&#62;\r\n&#60;p&#62;Suporte VallePay&#60;/p&#62;",
         "carlos.ivanski"
        ],
        [
         "30",
         "1305",
         "347",
         "2025-03-07 10:14:17",
         "&#60;p&#62;Prezado José Madeira,&#60;br&#62; &#60;br&#62;Após nova verificação, constatamos que o status do pagamento referente à corrida realizada pelo taxista ainda está pendente.&#60;/p&#62;\r\n&#60;p&#62;Confirmamos que o PIX cadastro pelo taxista é inválido. Peça ao taxista para rever o seu cadastro e fazer as alterações necessárias.&#60;/p&#62;\r\n&#60;p&#62;&#60;br&#62;Iremos realizar o repasse manual para a chave PIX fornecida.&#60;/p&#62;\r\n&#60;p&#62;Em breve retornaremos com o comprovante da transação.&#60;/p&#62;\r\n&#60;p&#62;&#60;br&#62; &#60;br&#62;Atenciosamente,&#60;/p&#62;\r\n&#60;p&#62;Suporte VallePay&#60;/p&#62;",
         "carlos.ivanski"
        ],
        [
         "31",
         "1288",
         "346",
         "2025-02-27 17:13:52",
         "&#60;p&#62;Prezado José Madeira,&#60;br&#62; &#60;br&#62;Após verificação, constatamos que o status do pagamento referente à corrida realizada pelo taxista ainda está pendente.&#60;/p&#62;\r\n&#60;p&#62;&#60;br&#62;Iremos realizar o repasse manual para a chave PIX fornecida.&#60;/p&#62;\r\n&#60;p&#62;Em breve retornaremos com o comprovante da transação.&#60;/p&#62;\r\n&#60;p&#62;&#60;br&#62; &#60;br&#62;Atenciosamente,&#60;/p&#62;\r\n&#60;p&#62;Suporte VallePay&#60;/p&#62;",
         "carlos.ivanski"
        ],
        [
         "32",
         "1287",
         "345",
         "2025-02-27 15:07:48",
         "&#60;p&#62;Prezado José Madeira,&#60;br&#62; &#60;br&#62;Após verificação, constatamos que o status do pagamento referente à corrida realizada pelo taxista ainda está pendente.&#60;/p&#62;\r\n&#60;p&#62;&#60;br&#62;Iremos realizar o repasse manual para a chave PIX fornecida.&#60;/p&#62;\r\n&#60;p&#62;Em breve retornaremos com o comprovante da transação.&#60;/p&#62;\r\n&#60;p&#62;&#60;br&#62; &#60;br&#62;Atenciosamente,&#60;/p&#62;\r\n&#60;p&#62;Suporte VallePay&#60;/p&#62;",
         "carlos.ivanski"
        ],
        [
         "33",
         "1286",
         "344",
         "2025-02-27 14:34:15",
         "&#60;p&#62;Prezado José Madeira,&#60;br&#62; &#60;br&#62;Após verificação, constatamos que o status do pagamento referente à corrida realizada pelo taxista ainda está pendente.&#60;/p&#62;\r\n&#60;p&#62;&#60;br&#62;Iremos realizar o repasse manual para a chave PIX fornecida.&#60;/p&#62;\r\n&#60;p&#62;Em breve retornaremos com o comprovante da transação.&#60;/p&#62;\r\n&#60;p&#62;&#60;br&#62; &#60;br&#62;Atenciosamente,&#60;/p&#62;\r\n&#60;p&#62;Suporte VallePay&#60;/p&#62;",
         "carlos.ivanski"
        ],
        [
         "34",
         "1285",
         "343",
         "2025-02-27 14:34:06",
         "&#60;p&#62;Prezado José Madeira,&#60;br&#62; &#60;br&#62;Após verificação, constatamos que o status do pagamento referente à corrida realizada pelo taxista ainda está pendente.&#60;/p&#62;\r\n&#60;p&#62;&#60;br&#62;Iremos realizar o repasse manual para a chave PIX fornecida.&#60;/p&#62;\r\n&#60;p&#62;Em breve retornaremos com o comprovante da transação.&#60;/p&#62;\r\n&#60;p&#62;&#60;br&#62; &#60;br&#62;Atenciosamente,&#60;/p&#62;\r\n&#60;p&#62;Suporte VallePay&#60;/p&#62;",
         "carlos.ivanski"
        ],
        [
         "35",
         "1284",
         "342",
         "2025-02-27 14:33:56",
         "&#60;p&#62;Prezado José Madeira,&#60;br&#62; &#60;br&#62;Após verificação, constatamos que o status do pagamento referente à corrida realizada pelo taxista ainda está pendente.&#60;/p&#62;\r\n&#60;p&#62;&#60;br&#62;Iremos realizar o repasse manual para a chave PIX fornecida.&#60;/p&#62;\r\n&#60;p&#62;Em breve retornaremos com o comprovante da transação.&#60;/p&#62;\r\n&#60;p&#62;&#60;br&#62; &#60;br&#62;Atenciosamente,&#60;/p&#62;\r\n&#60;p&#62;Suporte VallePay&#60;/p&#62;",
         "carlos.ivanski"
        ],
        [
         "36",
         "1268",
         "341",
         "2025-02-24 15:52:16",
         "&#60;p&#62;Prezado José Madeira,&#60;br&#62; &#60;br&#62;Após nova verificação, constatamos que o status do pagamento referente à corrida realizada pelo taxista ainda está pendente. Confirmamos que os dados bancários do taxista são inválidos.&#60;/p&#62;\r\n&#60;p&#62;&#60;br&#62;Iremos realizar o repasse manual para a chave PIX fornecida.&#60;/p&#62;\r\n&#60;p&#62;Em breve retornaremos com o comprovante da transação.&#60;/p&#62;\r\n&#60;p&#62;&#60;br&#62; &#60;br&#62;Atenciosamente,&#60;/p&#62;\r\n&#60;p&#62;Suporte VallePay&#60;/p&#62;",
         "carlos.ivanski"
        ],
        [
         "37",
         "1265",
         "339",
         "2025-02-21 16:30:14",
         "&#60;p&#62;Caro José Madeira,&#60;br&#62; &#60;br&#62;Confirmamos que os três primeiros repasses foram concluídos com sucesso.&#60;/p&#62;\r\n&#60;p&#62;O quarto valor ainda está pendente, assim que a transação for concluída, te retornarei o último comprovante.&#60;/p&#62;\r\n&#60;p&#62; &#60;/p&#62;\r\n&#60;p&#62;Segue em anexo, os comprovantes do valores.&#60;/p&#62;\r\n&#60;p&#62;&#60;br&#62; &#60;br&#62;Atenciosamente,&#60;br&#62; &#60;br&#62;Suporte VallePay&#60;br&#62; &#60;/p&#62;",
         "carlos.ivanski"
        ],
        [
         "38",
         "1264",
         "338",
         "2025-02-21 08:58:02",
         "&#60;p data-start=\"140\" data-end=\"163\"&#62;Prezado José Madeira,&#60;/p&#62;\r\n&#60;p data-start=\"165\" data-end=\"302\"&#62;Gostaríamos de informar que identificamos uma instabilidade interna que impediu o processamento correto dos repasses no dia 17/02/2025.&#60;/p&#62;\r\n&#60;p data-start=\"304\" data-end=\"501\"&#62;Estamos trabalhando para solucionar a situação o mais breve possível e, assim que houver uma atualização, entraremos em contato para fornecer o comprovante ou qualquer outra informação relevante.&#60;/p&#62;\r\n&#60;p data-start=\"503\" data-end=\"533\"&#62;Agradecemos sua compreensão.&#60;/p&#62;\r\n&#60;p data-start=\"535\" data-end=\"575\"&#62; &#60;/p&#62;\r\n&#60;p data-start=\"535\" data-end=\"575\"&#62;Atenciosamente,&#60;/p&#62;\r\n&#60;p&#62;Suporte VallePay&#60;/p&#62;",
         "carlos.ivanski"
        ],
        [
         "39",
         "1263",
         "337",
         "2025-02-21 08:57:48",
         "&#60;p data-start=\"140\" data-end=\"163\"&#62;Prezado José Madeira,&#60;/p&#62;\r\n&#60;p data-start=\"165\" data-end=\"302\"&#62;Gostaríamos de informar que identificamos uma instabilidade interna que impediu o processamento correto dos repasses no dia 17/02/2025.&#60;/p&#62;\r\n&#60;p data-start=\"304\" data-end=\"501\"&#62;Estamos trabalhando para solucionar a situação o mais breve possível e, assim que houver uma atualização, entraremos em contato para fornecer o comprovante ou qualquer outra informação relevante.&#60;/p&#62;\r\n&#60;p data-start=\"503\" data-end=\"533\"&#62;Agradecemos sua compreensão.&#60;/p&#62;\r\n&#60;p data-start=\"535\" data-end=\"575\"&#62; &#60;/p&#62;\r\n&#60;p data-start=\"535\" data-end=\"575\"&#62;Atenciosamente,&#60;/p&#62;\r\n&#60;p&#62;Suporte VallePay&#60;/p&#62;",
         "carlos.ivanski"
        ],
        [
         "40",
         "1262",
         "336",
         "2025-02-20 10:29:49",
         "&#60;p data-start=\"140\" data-end=\"163\"&#62;Prezado José Madeira,&#60;/p&#62;\r\n&#60;p data-start=\"165\" data-end=\"302\"&#62;Gostaríamos de informar que identificamos uma instabilidade interna que impediu o processamento correto dos repasses no dia 17/02/2025.&#60;/p&#62;\r\n&#60;p data-start=\"304\" data-end=\"501\"&#62;Estamos trabalhando para solucionar a situação o mais breve possível e, assim que houver uma atualização, entraremos em contato para fornecer o comprovante ou qualquer outra informação relevante.&#60;/p&#62;\r\n&#60;p data-start=\"503\" data-end=\"533\"&#62;Agradecemos sua compreensão.&#60;/p&#62;\r\n&#60;p data-start=\"535\" data-end=\"575\"&#62; &#60;/p&#62;\r\n&#60;p data-start=\"535\" data-end=\"575\"&#62;Atenciosamente,&#60;/p&#62;\r\n&#60;p&#62;Suporte VallePay&#60;/p&#62;",
         "carlos.ivanski"
        ],
        [
         "41",
         "1259",
         "335",
         "2025-02-19 17:19:45",
         "&#60;p data-start=\"140\" data-end=\"163\"&#62;Prezado José Madeira,&#60;/p&#62;\r\n&#60;p data-start=\"165\" data-end=\"302\"&#62;Gostaríamos de informar que identificamos uma instabilidade interna que impediu o processamento correto dos repasses no dia 17/02/2025.&#60;/p&#62;\r\n&#60;p data-start=\"304\" data-end=\"501\"&#62;Estamos trabalhando para solucionar a situação o mais breve possível e, assim que houver uma atualização, entraremos em contato para fornecer o comprovante ou qualquer outra informação relevante.&#60;/p&#62;\r\n&#60;p data-start=\"503\" data-end=\"533\"&#62;Agradecemos sua compreensão.&#60;/p&#62;\r\n&#60;p data-start=\"535\" data-end=\"575\"&#62; &#60;/p&#62;\r\n&#60;p data-start=\"535\" data-end=\"575\"&#62;Atenciosamente,&#60;/p&#62;\r\n&#60;p&#62;Suporte VallePay&#60;/p&#62;",
         "carlos.ivanski"
        ],
        [
         "42",
         "1258",
         "333",
         "2025-02-19 12:51:01",
         "&#60;p data-start=\"140\" data-end=\"163\"&#62;Prezado José Madeira,&#60;/p&#62;\r\n&#60;p data-start=\"165\" data-end=\"302\"&#62;Gostaríamos de informar que identificamos uma instabilidade interna que impediu o processamento correto dos repasses no dia 17/02/2025.&#60;/p&#62;\r\n&#60;p data-start=\"304\" data-end=\"501\"&#62;Estamos trabalhando para solucionar a situação o mais breve possível e, assim que houver uma atualização, entraremos em contato para fornecer o comprovante ou qualquer outra informação relevante.&#60;/p&#62;\r\n&#60;p data-start=\"503\" data-end=\"533\"&#62;Agradecemos sua compreensão.&#60;/p&#62;\r\n&#60;p data-start=\"535\" data-end=\"575\"&#62; &#60;/p&#62;\r\n&#60;p data-start=\"535\" data-end=\"575\"&#62;Atenciosamente,&#60;/p&#62;\r\n&#60;p&#62;Suporte VallePay&#60;/p&#62;",
         "carlos.ivanski"
        ],
        [
         "43",
         "1257",
         "334",
         "2025-02-19 12:50:49",
         "&#60;p data-start=\"140\" data-end=\"163\"&#62;Prezado José Madeira,&#60;/p&#62;\r\n&#60;p data-start=\"165\" data-end=\"302\"&#62;Gostaríamos de informar que identificamos uma instabilidade interna que impediu o processamento correto dos repasses no dia 17/02/2025.&#60;/p&#62;\r\n&#60;p data-start=\"304\" data-end=\"501\"&#62;Estamos trabalhando para solucionar a situação o mais breve possível e, assim que houver uma atualização, entraremos em contato para fornecer o comprovante ou qualquer outra informação relevante.&#60;/p&#62;\r\n&#60;p data-start=\"503\" data-end=\"533\"&#62;Agradecemos sua compreensão.&#60;/p&#62;\r\n&#60;p data-start=\"535\" data-end=\"575\"&#62; &#60;/p&#62;\r\n&#60;p data-start=\"535\" data-end=\"575\"&#62;Atenciosamente,&#60;/p&#62;\r\n&#60;p&#62;Suporte VallePay&#60;/p&#62;",
         "carlos.ivanski"
        ],
        [
         "44",
         "1256",
         "332",
         "2025-02-19 12:50:25",
         "&#60;p data-start=\"140\" data-end=\"163\"&#62;Prezado José Madeira,&#60;/p&#62;\r\n&#60;p data-start=\"165\" data-end=\"302\"&#62;Gostaríamos de informar que identificamos uma instabilidade interna que impediu o processamento correto dos repasses no dia 17/02/2025.&#60;/p&#62;\r\n&#60;p data-start=\"304\" data-end=\"501\"&#62;Estamos trabalhando para solucionar a situação o mais breve possível e, assim que houver uma atualização, entraremos em contato para fornecer o comprovante ou qualquer outra informação relevante.&#60;/p&#62;\r\n&#60;p data-start=\"503\" data-end=\"533\"&#62;Agradecemos sua compreensão.&#60;/p&#62;\r\n&#60;p data-start=\"535\" data-end=\"575\"&#62; &#60;/p&#62;\r\n&#60;p data-start=\"535\" data-end=\"575\"&#62;Atenciosamente,&#60;/p&#62;\r\n&#60;p&#62;Suporte VallePay&#60;/p&#62;",
         "carlos.ivanski"
        ],
        [
         "45",
         "1254",
         "331",
         "2025-02-18 17:11:48",
         "&#60;p&#62;Caro José Madeira,&#60;/p&#62;\r\n&#60;p&#62;Estamos investigando a razão pela qual o repasse não foi realizado. Assim que tivermos novidades, entraremos em contato para informá-lo.&#60;/p&#62;\r\n&#60;p&#62; &#60;/p&#62;\r\n&#60;p&#62;Atenciosamente&#60;/p&#62;\r\n&#60;p&#62;Suporte VallePay&#60;/p&#62;",
         "carlos.ivanski"
        ],
        [
         "46",
         "1253",
         "330",
         "2025-02-18 17:11:38",
         "&#60;p&#62;Caro José Madeira,&#60;/p&#62;\r\n&#60;p&#62;Estamos investigando a razão pela qual o repasse não foi realizado. Assim que tivermos novidades, entraremos em contato para informá-lo.&#60;/p&#62;\r\n&#60;p&#62; &#60;/p&#62;\r\n&#60;p&#62;Atenciosamente&#60;/p&#62;\r\n&#60;p&#62;Suporte VallePay&#60;/p&#62;",
         "carlos.ivanski"
        ],
        [
         "47",
         "1252",
         "329",
         "2025-02-18 14:52:53",
         "&#60;p&#62;Caro José Madeira,&#60;br&#62; &#60;br&#62;Confirmamos que o repasse foi concluído com sucesso.&#60;/p&#62;\r\n&#60;p&#62;Tivemos um problema interno que acabou não gerando os repasses corretamente no dia 17/02/2025. &#60;br&#62; &#60;br&#62;Nossa rotina de processar repasses ocorre todos os dias, então os que não rodaram no dia 17/02/2025, foram processados novamente dia 18/02/2025.&#60;/p&#62;\r\n&#60;p&#62;Segue em anexo, o comprovante do valor.&#60;/p&#62;\r\n&#60;p&#62;&#60;br&#62; &#60;br&#62;Atenciosamente,&#60;br&#62; &#60;br&#62;Suporte VallePay&#60;/p&#62;",
         "carlos.ivanski"
        ],
        [
         "48",
         "1245",
         "328",
         "2025-02-17 09:58:47",
         "&#60;p&#62;Caro José Madeira,&#60;br&#62; &#60;br&#62;Confirmamos que o repasse foi concluído com sucesso.&#60;/p&#62;\r\n&#60;p&#62;Segue em anexo, o comprovante do valor.&#60;/p&#62;\r\n&#60;p&#62;&#60;br&#62; &#60;br&#62;Atenciosamente,&#60;br&#62; &#60;br&#62;Suporte VallePay&#60;br&#62; &#60;/p&#62;",
         "carlos.ivanski"
        ],
        [
         "49",
         "1243",
         "327",
         "2025-02-14 17:35:48",
         "&#60;p&#62;&#60;span style=\"color: #000000;\"&#62;Caro José Madeira,&#60;/span&#62;&#60;br&#62;&#60;span style=\"color: #000000;\"&#62; &#60;/span&#62;&#60;br&#62;&#60;span style=\"color: #000000;\"&#62;Confirmamos que os repasses foram concluídos com sucesso.&#60;/span&#62;&#60;/p&#62;\r\n&#60;p&#62;&#60;span style=\"color: #000000;\"&#62;Segue em anexo, os comprovantes &#60;span style=\"font-family: inter, -apple-system, blinkmacsystemfont, 'san francisco', 'segoe ui', roboto, 'helvetica neue', sans-serif; font-size: 14px; font-style: normal; font-variant-ligatures: no-contextual; font-variant-caps: normal; font-weight: 400; letter-spacing: normal; orphans: 2; text-align: left; text-indent: 0px; text-transform: none; widows: 2; word-spacing: 0px; -webkit-text-stroke-width: 0px; white-space: normal; float: none; display: inline !important;\"&#62;nos dias 28/10/2024, no valor de R$ 11,09, 29/11/2024, no valor de R$ 10,54.&#60;/span&#62;&#60;/span&#62;&#60;/p&#62;\r\n&#60;p&#62;&#60;span style=\"color: #000000; font-family: inter, -apple-system, blinkmacsystemfont, 'san francisco', 'segoe ui', roboto, 'helvetica neue', sans-serif; font-size: 14px; font-style: normal; font-variant-ligatures: no-contextual; font-variant-caps: normal; font-weight: 400; letter-spacing: normal; orphans: 2; text-align: left; text-indent: 0px; text-transform: none; widows: 2; word-spacing: 0px; -webkit-text-stroke-width: 0px; white-space: normal; float: none; display: inline !important;\"&#62;&#60;span style=\"font-family: inter, -apple-system, blinkmacsystemfont, 'san francisco', 'segoe ui', roboto, 'helvetica neue', sans-serif; font-size: 14px; font-style: normal; font-variant-ligatures: no-contextual; font-variant-caps: normal; font-weight: 400; letter-spacing: normal; orphans: 2; text-align: left; text-indent: 0px; text-transform: none; widows: 2; word-spacing: 0px; -webkit-text-stroke-width: 0px; white-space: normal; float: none; display: inline !important;\"&#62;O repasse do dia 03/02/2025, no valor de R$ 22,76 foi encontrado e pago normalmente, porém estou sem o extrato para pegar o comprovante, assim que eu tiver acesso, mandarei para o senhor o último comprovante.&#60;/span&#62;&#60;/span&#62;&#60;/p&#62;\r\n&#60;p&#62;&#60;br&#62;&#60;span style=\"color: #000000;\"&#62; &#60;/span&#62;&#60;br&#62;&#60;span style=\"color: #000000;\"&#62;Atenciosamente,&#60;/span&#62;&#60;br&#62;&#60;span style=\"color: #000000;\"&#62; &#60;/span&#62;&#60;br&#62;&#60;span style=\"color: #000000;\"&#62;Suporte VallePay&#60;/span&#62;&#60;/p&#62;",
         "carlos.ivanski"
        ]
       ],
       "shape": {
        "columns": 5,
        "rows": 279
       }
      },
      "text/html": [
       "<div>\n",
       "<style scoped>\n",
       "    .dataframe tbody tr th:only-of-type {\n",
       "        vertical-align: middle;\n",
       "    }\n",
       "\n",
       "    .dataframe tbody tr th {\n",
       "        vertical-align: top;\n",
       "    }\n",
       "\n",
       "    .dataframe thead th {\n",
       "        text-align: right;\n",
       "    }\n",
       "</style>\n",
       "<table border=\"1\" class=\"dataframe\">\n",
       "  <thead>\n",
       "    <tr style=\"text-align: right;\">\n",
       "      <th></th>\n",
       "      <th>followup_id</th>\n",
       "      <th>ticket_id</th>\n",
       "      <th>date</th>\n",
       "      <th>content</th>\n",
       "      <th>tecnico</th>\n",
       "    </tr>\n",
       "  </thead>\n",
       "  <tbody>\n",
       "    <tr>\n",
       "      <th>0</th>\n",
       "      <td>1427</td>\n",
       "      <td>383</td>\n",
       "      <td>2025-04-10 15:48:44</td>\n",
       "      <td>&amp;#60;p&amp;#62;Prezado José Madeira,&amp;#60;br&amp;#62; &amp;...</td>\n",
       "      <td>carlos.ivanski</td>\n",
       "    </tr>\n",
       "    <tr>\n",
       "      <th>1</th>\n",
       "      <td>1414</td>\n",
       "      <td>382</td>\n",
       "      <td>2025-04-08 17:12:54</td>\n",
       "      <td>&amp;#60;p&amp;#62;Bom tarde, José Madeira,&amp;#60;/p&amp;#62...</td>\n",
       "      <td>carlos.ivanski</td>\n",
       "    </tr>\n",
       "    <tr>\n",
       "      <th>2</th>\n",
       "      <td>1413</td>\n",
       "      <td>381</td>\n",
       "      <td>2025-04-08 16:59:14</td>\n",
       "      <td>&amp;#60;p&amp;#62;Bom tarde, José Madeira,&amp;#60;/p&amp;#62...</td>\n",
       "      <td>carlos.ivanski</td>\n",
       "    </tr>\n",
       "    <tr>\n",
       "      <th>3</th>\n",
       "      <td>1409</td>\n",
       "      <td>380</td>\n",
       "      <td>2025-04-08 11:58:24</td>\n",
       "      <td>&amp;#60;p&amp;#62;Prezado José Madeira,&amp;#60;br&amp;#62; &amp;...</td>\n",
       "      <td>carlos.ivanski</td>\n",
       "    </tr>\n",
       "    <tr>\n",
       "      <th>4</th>\n",
       "      <td>1408</td>\n",
       "      <td>378</td>\n",
       "      <td>2025-04-08 11:52:30</td>\n",
       "      <td>&amp;#60;p&amp;#62;Bom dia, José Madeira,&amp;#60;br&amp;#62; ...</td>\n",
       "      <td>carlos.ivanski</td>\n",
       "    </tr>\n",
       "    <tr>\n",
       "      <th>...</th>\n",
       "      <td>...</td>\n",
       "      <td>...</td>\n",
       "      <td>...</td>\n",
       "      <td>...</td>\n",
       "      <td>...</td>\n",
       "    </tr>\n",
       "    <tr>\n",
       "      <th>274</th>\n",
       "      <td>98</td>\n",
       "      <td>31</td>\n",
       "      <td>2024-10-23 09:24:42</td>\n",
       "      <td>&amp;#60;p&amp;#62;&amp;#60;span style=\"color: #000000;\"&amp;#...</td>\n",
       "      <td>carlos.ivanski</td>\n",
       "    </tr>\n",
       "    <tr>\n",
       "      <th>275</th>\n",
       "      <td>63</td>\n",
       "      <td>31</td>\n",
       "      <td>2024-10-18 13:01:30</td>\n",
       "      <td>&amp;#60;p&amp;#62;Caro José Madeira,&amp;#60;/p&amp;#62;\\r\\n&amp;...</td>\n",
       "      <td>gabriel.pinelli</td>\n",
       "    </tr>\n",
       "    <tr>\n",
       "      <th>276</th>\n",
       "      <td>46</td>\n",
       "      <td>43</td>\n",
       "      <td>2024-10-18 10:04:09</td>\n",
       "      <td>&amp;#60;p&amp;#62;Caro José Madeira,&amp;#60;/p&amp;#62;\\r\\n&amp;...</td>\n",
       "      <td>carlos.ivanski</td>\n",
       "    </tr>\n",
       "    <tr>\n",
       "      <th>277</th>\n",
       "      <td>45</td>\n",
       "      <td>44</td>\n",
       "      <td>2024-10-18 10:02:31</td>\n",
       "      <td>&amp;#60;p&amp;#62;Caro José Madeira,&amp;#60;/p&amp;#62;\\r\\n&amp;...</td>\n",
       "      <td>carlos.ivanski</td>\n",
       "    </tr>\n",
       "    <tr>\n",
       "      <th>278</th>\n",
       "      <td>44</td>\n",
       "      <td>45</td>\n",
       "      <td>2024-10-18 10:01:09</td>\n",
       "      <td>&amp;#60;p&amp;#62;Caro José Madeira,&amp;#60;/p&amp;#62;\\r\\n&amp;...</td>\n",
       "      <td>carlos.ivanski</td>\n",
       "    </tr>\n",
       "  </tbody>\n",
       "</table>\n",
       "<p>279 rows × 5 columns</p>\n",
       "</div>"
      ],
      "text/plain": [
       "     followup_id  ticket_id                 date  \\\n",
       "0           1427        383  2025-04-10 15:48:44   \n",
       "1           1414        382  2025-04-08 17:12:54   \n",
       "2           1413        381  2025-04-08 16:59:14   \n",
       "3           1409        380  2025-04-08 11:58:24   \n",
       "4           1408        378  2025-04-08 11:52:30   \n",
       "..           ...        ...                  ...   \n",
       "274           98         31  2024-10-23 09:24:42   \n",
       "275           63         31  2024-10-18 13:01:30   \n",
       "276           46         43  2024-10-18 10:04:09   \n",
       "277           45         44  2024-10-18 10:02:31   \n",
       "278           44         45  2024-10-18 10:01:09   \n",
       "\n",
       "                                               content          tecnico  \n",
       "0    &#60;p&#62;Prezado José Madeira,&#60;br&#62; &...   carlos.ivanski  \n",
       "1    &#60;p&#62;Bom tarde, José Madeira,&#60;/p&#62...   carlos.ivanski  \n",
       "2    &#60;p&#62;Bom tarde, José Madeira,&#60;/p&#62...   carlos.ivanski  \n",
       "3    &#60;p&#62;Prezado José Madeira,&#60;br&#62; &...   carlos.ivanski  \n",
       "4    &#60;p&#62;Bom dia, José Madeira,&#60;br&#62; ...   carlos.ivanski  \n",
       "..                                                 ...              ...  \n",
       "274  &#60;p&#62;&#60;span style=\"color: #000000;\"&#...   carlos.ivanski  \n",
       "275  &#60;p&#62;Caro José Madeira,&#60;/p&#62;\\r\\n&...  gabriel.pinelli  \n",
       "276  &#60;p&#62;Caro José Madeira,&#60;/p&#62;\\r\\n&...   carlos.ivanski  \n",
       "277  &#60;p&#62;Caro José Madeira,&#60;/p&#62;\\r\\n&...   carlos.ivanski  \n",
       "278  &#60;p&#62;Caro José Madeira,&#60;/p&#62;\\r\\n&...   carlos.ivanski  \n",
       "\n",
       "[279 rows x 5 columns]"
      ]
     },
     "execution_count": 65,
     "metadata": {},
     "output_type": "execute_result"
    }
   ],
   "source": [
    "import pandas as pd\n",
    "\n",
    "dados_tecnico = pd.read_csv(r\"C:\\Users\\Erione Technologies\\Downloads\\_SELECT_f_id_AS_followup_id_f_items_id_AS_ticket_id_f_date_f_con_202504111018.csv\", sep=',')\n",
    "dados_tecnico"
   ]
  },
  {
   "cell_type": "code",
   "execution_count": 66,
   "id": "e3fce009",
   "metadata": {},
   "outputs": [
    {
     "data": {
      "application/vnd.microsoft.datawrangler.viewer.v0+json": {
       "columns": [
        {
         "name": "index",
         "rawType": "int64",
         "type": "integer"
        },
        {
         "name": "ticket_id",
         "rawType": "int64",
         "type": "integer"
        },
        {
         "name": "date",
         "rawType": "object",
         "type": "string"
        },
        {
         "name": "trecho_confirmado",
         "rawType": "object",
         "type": "string"
        }
       ],
       "conversionMethod": "pd.DataFrame",
       "ref": "819e3f07-1e2c-4d1c-9235-702612dd2d6a",
       "rows": [
        [
         "0",
         "383",
         "2025-04-10 15:48:44",
         "Confirmamos que o cpf/cnpj do usuário recebedor está incorreto"
        ],
        [
         "3",
         "380",
         "2025-04-08 11:58:24",
         "Confirmamos que os dados bancários do taxista estão inválidos"
        ],
        [
         "6",
         "376",
         "2025-04-07 08:42:23",
         "Confirmamos que o número da agência e/ou conta transacional do usuário recebedor inexistente ou inválido"
        ],
        [
         "7",
         "374",
         "2025-04-03 17:09:15",
         "Confirmamos que os dados do taxista são inválidos"
        ],
        [
         "9",
         "370",
         "2025-04-02 17:12:46",
         "Confirmamos que o repasse foi concluído com sucesso"
        ],
        [
         "10",
         "371",
         "2025-04-02 16:55:04",
         "Confirmamos que o tipo de conta transacional do psp do recebedor é inexistente ou inválido"
        ],
        [
         "11",
         "372",
         "2025-04-02 16:54:51",
         "Confirmamos que o tipo de conta transacional do psp do recebedor é inexistente ou inválido"
        ],
        [
         "12",
         "367",
         "2025-03-28 08:47:23",
         "Confirmamos que os dados do taxista não foram cadastrados"
        ],
        [
         "15",
         "366",
         "2025-03-27 10:19:37",
         "Confirmamos que os dados do taxista não foram cadastrados"
        ],
        [
         "16",
         "362",
         "2025-03-24 09:07:22",
         "Confirmamos que houve um erro no processamento do pagamento"
        ],
        [
         "17",
         "361",
         "2025-03-21 16:53:20",
         "Confirmamos que o repasse foi concluído com sucesso"
        ],
        [
         "18",
         "360",
         "2025-03-20 14:16:48",
         "Confirmamos que o repasse foi concluído com sucesso"
        ],
        [
         "20",
         "357",
         "2025-03-20 10:48:32",
         "Confirmamos que o repasse foi concluído com sucesso"
        ],
        [
         "21",
         "356",
         "2025-03-20 10:47:50",
         "Confirmamos que o repasse foi concluído com sucesso"
        ],
        [
         "23",
         "353",
         "2025-03-13 16:59:30",
         "Confirmamos que o repasse foi concluído com sucesso"
        ],
        [
         "25",
         "352",
         "2025-03-13 14:57:53",
         "Confirmamos que o repasse foi concluído com sucesso"
        ],
        [
         "26",
         "351",
         "2025-03-13 14:57:21",
         "Confirmamos que o repasse foi concluído com sucesso"
        ],
        [
         "27",
         "350",
         "2025-03-11 12:30:20",
         "Confirmamos que o repasse foi concluído com sucesso"
        ],
        [
         "30",
         "347",
         "2025-03-07 10:14:17",
         "Confirmamos que o pix cadastro pelo taxista é inválido"
        ],
        [
         "36",
         "341",
         "2025-02-24 15:52:16",
         "Confirmamos que os dados bancários do taxista são inválidos"
        ],
        [
         "37",
         "339",
         "2025-02-21 16:30:14",
         "Confirmamos que os três primeiros repasses foram concluídos com sucesso"
        ],
        [
         "47",
         "329",
         "2025-02-18 14:52:53",
         "Confirmamos que o repasse foi concluído com sucesso"
        ],
        [
         "48",
         "328",
         "2025-02-17 09:58:47",
         "Confirmamos que o repasse foi concluído com sucesso"
        ],
        [
         "49",
         "327",
         "2025-02-14 17:35:48",
         "Confirmamos que os repasses foram concluídos com sucesso"
        ],
        [
         "51",
         "324",
         "2025-02-12 15:44:38",
         "Confirmamos que o repasse foi concluído com sucesso"
        ],
        [
         "52",
         "325",
         "2025-02-12 15:44:03",
         "Confirmamos que o repasse foi concluído com sucesso"
        ],
        [
         "53",
         "326",
         "2025-02-12 15:43:34",
         "Confirmamos que o repasse foi concluído com sucesso"
        ],
        [
         "54",
         "322",
         "2025-02-06 16:33:23",
         "Confirmamos que o repasse foi concluído com sucesso"
        ],
        [
         "55",
         "321",
         "2025-02-06 13:19:43",
         "Confirmamos que o repasse foi concluído com sucesso"
        ],
        [
         "56",
         "320",
         "2025-02-05 13:45:17",
         "Confirmamos que o repasse foi concluído com sucesso"
        ],
        [
         "57",
         "319",
         "2025-02-05 11:38:47",
         "Confirmamos que o repasse foi concluído com sucesso"
        ],
        [
         "58",
         "318",
         "2025-02-04 10:35:55",
         "Confirmamos que o repasse foi concluído com sucesso"
        ],
        [
         "59",
         "317",
         "2025-02-03 15:33:07",
         "Confirmamos que os dados bancários do taxista são inválidos"
        ],
        [
         "60",
         "314",
         "2025-01-31 08:27:27",
         "Confirmamos que os dados bancários do taxista são inválidos"
        ],
        [
         "63",
         "311",
         "2025-01-29 16:50:12",
         "Confirmamos que a captura do valor do repasse ao taxista foi realizada com sucesso"
        ],
        [
         "65",
         "309",
         "2025-01-29 11:15:30",
         "Confirmamos que o repasse foi concluído com sucesso"
        ],
        [
         "67",
         "307",
         "2025-01-24 16:20:54",
         "Confirmamos que o repasse foi concluído com sucesso"
        ],
        [
         "69",
         "305",
         "2025-01-24 15:59:10",
         "Confirmamos que o repasse foi concluído com sucesso no dia 20/01/2025"
        ],
        [
         "70",
         "306",
         "2025-01-24 15:39:47",
         "Confirmamos que os dados bancários do taxista são inválidos"
        ],
        [
         "73",
         "302",
         "2025-01-23 13:18:42",
         "Confirmamos que o repasse foi concluído com sucesso"
        ],
        [
         "74",
         "296",
         "2025-01-15 09:43:05",
         "Confirmamos que o repasse foi concluído com sucesso"
        ],
        [
         "75",
         "294",
         "2025-01-14 11:19:14",
         "Confirmamos que os dados bancários do taxista são inválidos"
        ],
        [
         "77",
         "292",
         "2025-01-13 12:48:04",
         "Confirmamos que o repasse foi concluído com sucesso"
        ],
        [
         "81",
         "288",
         "2025-01-08 16:56:38",
         "Confirmamos que o repasse foi concluído com sucesso"
        ],
        [
         "82",
         "285",
         "2025-01-08 16:51:35",
         "Confirmamos que o repasse foi concluído com sucesso"
        ],
        [
         "83",
         "273",
         "2025-01-08 16:46:01",
         "Confirmamos que o repasse foi concluído com sucesso"
        ],
        [
         "84",
         "269",
         "2025-01-08 16:44:21",
         "Confirmamos que o repasse foi concluído com sucesso"
        ],
        [
         "87",
         "267",
         "2025-01-08 08:17:53",
         "Confirmamos que o repasse foi concluído com sucesso"
        ],
        [
         "90",
         "283",
         "2025-01-03 14:07:13",
         "Confirmamos que os dados bancários do taxista são inválidos"
        ],
        [
         "91",
         "282",
         "2025-01-03 14:06:43",
         "Confirmamos que os dados bancários do taxista são inválidos"
        ]
       ],
       "shape": {
        "columns": 3,
        "rows": 129
       }
      },
      "text/html": [
       "<div>\n",
       "<style scoped>\n",
       "    .dataframe tbody tr th:only-of-type {\n",
       "        vertical-align: middle;\n",
       "    }\n",
       "\n",
       "    .dataframe tbody tr th {\n",
       "        vertical-align: top;\n",
       "    }\n",
       "\n",
       "    .dataframe thead th {\n",
       "        text-align: right;\n",
       "    }\n",
       "</style>\n",
       "<table border=\"1\" class=\"dataframe\">\n",
       "  <thead>\n",
       "    <tr style=\"text-align: right;\">\n",
       "      <th></th>\n",
       "      <th>ticket_id</th>\n",
       "      <th>date</th>\n",
       "      <th>trecho_confirmado</th>\n",
       "    </tr>\n",
       "  </thead>\n",
       "  <tbody>\n",
       "    <tr>\n",
       "      <th>0</th>\n",
       "      <td>383</td>\n",
       "      <td>2025-04-10 15:48:44</td>\n",
       "      <td>Confirmamos que o cpf/cnpj do usuário recebedo...</td>\n",
       "    </tr>\n",
       "    <tr>\n",
       "      <th>3</th>\n",
       "      <td>380</td>\n",
       "      <td>2025-04-08 11:58:24</td>\n",
       "      <td>Confirmamos que os dados bancários do taxista ...</td>\n",
       "    </tr>\n",
       "    <tr>\n",
       "      <th>6</th>\n",
       "      <td>376</td>\n",
       "      <td>2025-04-07 08:42:23</td>\n",
       "      <td>Confirmamos que o número da agência e/ou conta...</td>\n",
       "    </tr>\n",
       "    <tr>\n",
       "      <th>7</th>\n",
       "      <td>374</td>\n",
       "      <td>2025-04-03 17:09:15</td>\n",
       "      <td>Confirmamos que os dados do taxista são inválidos</td>\n",
       "    </tr>\n",
       "    <tr>\n",
       "      <th>9</th>\n",
       "      <td>370</td>\n",
       "      <td>2025-04-02 17:12:46</td>\n",
       "      <td>Confirmamos que o repasse foi concluído com su...</td>\n",
       "    </tr>\n",
       "    <tr>\n",
       "      <th>...</th>\n",
       "      <td>...</td>\n",
       "      <td>...</td>\n",
       "      <td>...</td>\n",
       "    </tr>\n",
       "    <tr>\n",
       "      <th>270</th>\n",
       "      <td>82</td>\n",
       "      <td>2024-10-30 09:49:10</td>\n",
       "      <td>Confirmamos que os valores cobrados foram debi...</td>\n",
       "    </tr>\n",
       "    <tr>\n",
       "      <th>271</th>\n",
       "      <td>77</td>\n",
       "      <td>2024-10-29 16:55:52</td>\n",
       "      <td>Confirmamos que o valor cobrado foi debitado d...</td>\n",
       "    </tr>\n",
       "    <tr>\n",
       "      <th>272</th>\n",
       "      <td>64</td>\n",
       "      <td>2024-10-24 12:48:30</td>\n",
       "      <td>Confirmamos que o valor cobrado foi debitado d...</td>\n",
       "    </tr>\n",
       "    <tr>\n",
       "      <th>273</th>\n",
       "      <td>61</td>\n",
       "      <td>2024-10-23 17:41:08</td>\n",
       "      <td>Confirmamos que o valor cobrado foi debitado d...</td>\n",
       "    </tr>\n",
       "    <tr>\n",
       "      <th>274</th>\n",
       "      <td>31</td>\n",
       "      <td>2024-10-23 09:24:42</td>\n",
       "      <td>Confirmamos que o valor cobrado foi debitado d...</td>\n",
       "    </tr>\n",
       "  </tbody>\n",
       "</table>\n",
       "<p>129 rows × 3 columns</p>\n",
       "</div>"
      ],
      "text/plain": [
       "     ticket_id                 date  \\\n",
       "0          383  2025-04-10 15:48:44   \n",
       "3          380  2025-04-08 11:58:24   \n",
       "6          376  2025-04-07 08:42:23   \n",
       "7          374  2025-04-03 17:09:15   \n",
       "9          370  2025-04-02 17:12:46   \n",
       "..         ...                  ...   \n",
       "270         82  2024-10-30 09:49:10   \n",
       "271         77  2024-10-29 16:55:52   \n",
       "272         64  2024-10-24 12:48:30   \n",
       "273         61  2024-10-23 17:41:08   \n",
       "274         31  2024-10-23 09:24:42   \n",
       "\n",
       "                                     trecho_confirmado  \n",
       "0    Confirmamos que o cpf/cnpj do usuário recebedo...  \n",
       "3    Confirmamos que os dados bancários do taxista ...  \n",
       "6    Confirmamos que o número da agência e/ou conta...  \n",
       "7    Confirmamos que os dados do taxista são inválidos  \n",
       "9    Confirmamos que o repasse foi concluído com su...  \n",
       "..                                                 ...  \n",
       "270  Confirmamos que os valores cobrados foram debi...  \n",
       "271  Confirmamos que o valor cobrado foi debitado d...  \n",
       "272  Confirmamos que o valor cobrado foi debitado d...  \n",
       "273  Confirmamos que o valor cobrado foi debitado d...  \n",
       "274  Confirmamos que o valor cobrado foi debitado d...  \n",
       "\n",
       "[129 rows x 3 columns]"
      ]
     },
     "execution_count": 66,
     "metadata": {},
     "output_type": "execute_result"
    }
   ],
   "source": [
    "import re\n",
    "\n",
    "def extrair_confirmacao(texto):\n",
    "    if pd.isna(texto): return None\n",
    "    padrao = r'confirmamos\\s+([^\\.!?]+)'\n",
    "    match = re.search(padrao, texto.lower())\n",
    "    if match:\n",
    "        return \"Confirmamos \" + match.group(1).strip()\n",
    "    return None\n",
    "\n",
    "dados_tecnico['trecho_confirmado'] = dados_tecnico['content'].apply(extrair_confirmacao)\n",
    "\n",
    "erros_encontrados = dados_tecnico[['ticket_id', 'date', 'trecho_confirmado']].dropna()\n",
    "erros_encontrados"
   ]
  },
  {
   "cell_type": "code",
   "execution_count": 67,
   "id": "5ab26a71",
   "metadata": {},
   "outputs": [],
   "source": [
    "mapeamento_erros = {\n",
    "    'Confirmamos que os dados bancários do taxista são inválidos': 'Dados bancários inválidos',\n",
    "    'Confirmamos que os dados do taxista não foram cadastrados': 'Dados bancários inválidos',\n",
    "    \n",
    "    'Confirmamos que o valor cobrado foi debitado de sua conta e deverá estar disponível na conta em até 72h': 'Valor debitado - disponível em até 72h',\n",
    "    'Confirmamos que os valores cobrados foram debitados de sua conta e deverá estar disponível na conta em até 72h': 'Valor debitado - disponível em até 72h',\n",
    "    \n",
    "    'Confirmamos que o repasse foi concluído com sucesso': 'Repasse concluído',\n",
    "    'Confirmamos que a transação pix foi concluída com sucesso': 'Repasse concluído',\n",
    "    \n",
    "    'Confirmamos que o tipo de conta transacional do psp do recebedor é inexistente ou inválido': 'Conta transacional inválida',\n",
    "    \n",
    "    'Confirmamos que o pix cadastro pelo taxista é inválido': 'PIX inválido',\n",
    "    \n",
    "    'Confirmamos que os valores cobrados já foram repassados para o taxista': 'Valor já repassado',\n",
    "    'Confirmamos que o valor cobrado já foi repassado para o taxista': 'Valor já repassado',\n",
    "}"
   ]
  },
  {
   "cell_type": "code",
   "execution_count": 68,
   "id": "9cb518d3",
   "metadata": {},
   "outputs": [
    {
     "data": {
      "application/vnd.microsoft.datawrangler.viewer.v0+json": {
       "columns": [
        {
         "name": "index",
         "rawType": "int64",
         "type": "integer"
        },
        {
         "name": "ticket_id",
         "rawType": "int64",
         "type": "integer"
        },
        {
         "name": "date",
         "rawType": "object",
         "type": "string"
        },
        {
         "name": "trecho_confirmado",
         "rawType": "object",
         "type": "string"
        },
        {
         "name": "erro_mapeado",
         "rawType": "object",
         "type": "string"
        }
       ],
       "conversionMethod": "pd.DataFrame",
       "ref": "ba869a97-b98b-48f5-9e12-4807fe02bc0a",
       "rows": [
        [
         "9",
         "370",
         "2025-04-02 17:12:46",
         "Confirmamos que o repasse foi concluído com sucesso",
         "Repasse concluído"
        ],
        [
         "10",
         "371",
         "2025-04-02 16:55:04",
         "Confirmamos que o tipo de conta transacional do psp do recebedor é inexistente ou inválido",
         "Conta transacional inválida"
        ],
        [
         "11",
         "372",
         "2025-04-02 16:54:51",
         "Confirmamos que o tipo de conta transacional do psp do recebedor é inexistente ou inválido",
         "Conta transacional inválida"
        ],
        [
         "12",
         "367",
         "2025-03-28 08:47:23",
         "Confirmamos que os dados do taxista não foram cadastrados",
         "Dados bancários inválidos"
        ],
        [
         "15",
         "366",
         "2025-03-27 10:19:37",
         "Confirmamos que os dados do taxista não foram cadastrados",
         "Dados bancários inválidos"
        ]
       ],
       "shape": {
        "columns": 4,
        "rows": 5
       }
      },
      "text/html": [
       "<div>\n",
       "<style scoped>\n",
       "    .dataframe tbody tr th:only-of-type {\n",
       "        vertical-align: middle;\n",
       "    }\n",
       "\n",
       "    .dataframe tbody tr th {\n",
       "        vertical-align: top;\n",
       "    }\n",
       "\n",
       "    .dataframe thead th {\n",
       "        text-align: right;\n",
       "    }\n",
       "</style>\n",
       "<table border=\"1\" class=\"dataframe\">\n",
       "  <thead>\n",
       "    <tr style=\"text-align: right;\">\n",
       "      <th></th>\n",
       "      <th>ticket_id</th>\n",
       "      <th>date</th>\n",
       "      <th>trecho_confirmado</th>\n",
       "      <th>erro_mapeado</th>\n",
       "    </tr>\n",
       "  </thead>\n",
       "  <tbody>\n",
       "    <tr>\n",
       "      <th>9</th>\n",
       "      <td>370</td>\n",
       "      <td>2025-04-02 17:12:46</td>\n",
       "      <td>Confirmamos que o repasse foi concluído com su...</td>\n",
       "      <td>Repasse concluído</td>\n",
       "    </tr>\n",
       "    <tr>\n",
       "      <th>10</th>\n",
       "      <td>371</td>\n",
       "      <td>2025-04-02 16:55:04</td>\n",
       "      <td>Confirmamos que o tipo de conta transacional d...</td>\n",
       "      <td>Conta transacional inválida</td>\n",
       "    </tr>\n",
       "    <tr>\n",
       "      <th>11</th>\n",
       "      <td>372</td>\n",
       "      <td>2025-04-02 16:54:51</td>\n",
       "      <td>Confirmamos que o tipo de conta transacional d...</td>\n",
       "      <td>Conta transacional inválida</td>\n",
       "    </tr>\n",
       "    <tr>\n",
       "      <th>12</th>\n",
       "      <td>367</td>\n",
       "      <td>2025-03-28 08:47:23</td>\n",
       "      <td>Confirmamos que os dados do taxista não foram ...</td>\n",
       "      <td>Dados bancários inválidos</td>\n",
       "    </tr>\n",
       "    <tr>\n",
       "      <th>15</th>\n",
       "      <td>366</td>\n",
       "      <td>2025-03-27 10:19:37</td>\n",
       "      <td>Confirmamos que os dados do taxista não foram ...</td>\n",
       "      <td>Dados bancários inválidos</td>\n",
       "    </tr>\n",
       "  </tbody>\n",
       "</table>\n",
       "</div>"
      ],
      "text/plain": [
       "    ticket_id                 date  \\\n",
       "9         370  2025-04-02 17:12:46   \n",
       "10        371  2025-04-02 16:55:04   \n",
       "11        372  2025-04-02 16:54:51   \n",
       "12        367  2025-03-28 08:47:23   \n",
       "15        366  2025-03-27 10:19:37   \n",
       "\n",
       "                                    trecho_confirmado  \\\n",
       "9   Confirmamos que o repasse foi concluído com su...   \n",
       "10  Confirmamos que o tipo de conta transacional d...   \n",
       "11  Confirmamos que o tipo de conta transacional d...   \n",
       "12  Confirmamos que os dados do taxista não foram ...   \n",
       "15  Confirmamos que os dados do taxista não foram ...   \n",
       "\n",
       "                   erro_mapeado  \n",
       "9             Repasse concluído  \n",
       "10  Conta transacional inválida  \n",
       "11  Conta transacional inválida  \n",
       "12    Dados bancários inválidos  \n",
       "15    Dados bancários inválidos  "
      ]
     },
     "execution_count": 68,
     "metadata": {},
     "output_type": "execute_result"
    }
   ],
   "source": [
    "erros_encontrados['erro_mapeado'] = erros_encontrados['trecho_confirmado'].map(mapeamento_erros)\n",
    "\n",
    "erros_encontrados = erros_encontrados.dropna(subset=['erro_mapeado'])\n",
    "\n",
    "erros_unicos = erros_encontrados.drop_duplicates(subset=['ticket_id', 'erro_mapeado'])\n",
    "\n",
    "erros_unicos.head()\n"
   ]
  },
  {
   "cell_type": "code",
   "execution_count": 69,
   "id": "a2d8b496",
   "metadata": {},
   "outputs": [
    {
     "name": "stderr",
     "output_type": "stream",
     "text": [
      "C:\\Users\\Erione Technologies\\AppData\\Local\\Temp\\ipykernel_16000\\1463224953.py:11: FutureWarning: \n",
      "\n",
      "Passing `palette` without assigning `hue` is deprecated and will be removed in v0.14.0. Assign the `y` variable to `hue` and set `legend=False` for the same effect.\n",
      "\n",
      "  sns.barplot(data=contagem_erros, y='Erro Mapeado', x='Porcentagem', palette='viridis')\n"
     ]
    },
    {
     "data": {
      "image/png": "[encoded data removed]",
      "text/plain": [
       "<Figure size 1200x600 with 1 Axes>"
      ]
     },
     "metadata": {},
     "output_type": "display_data"
    }
   ],
   "source": [
    "import matplotlib.pyplot as plt\n",
    "import seaborn as sns\n",
    "\n",
    "contagem_erros = erros_unicos['erro_mapeado'].value_counts().reset_index()\n",
    "contagem_erros.columns = ['Erro Mapeado', 'Ocorrências']\n",
    "\n",
    "total_erros = contagem_erros['Ocorrências'].sum()\n",
    "contagem_erros['Porcentagem'] = (contagem_erros['Ocorrências'] / total_erros) * 100\n",
    "\n",
    "plt.figure(figsize=(12, 6))\n",
    "sns.barplot(data=contagem_erros, y='Erro Mapeado', x='Porcentagem', palette='viridis')\n",
    "\n",
    "for i, (porcentagem, ocorrencia) in enumerate(zip(contagem_erros['Porcentagem'], contagem_erros['Ocorrências'])):\n",
    "    plt.text(porcentagem + 0.5, i, f'{porcentagem:.1f}% ({ocorrencia})', va='center')\n",
    "\n",
    "plt.xlabel('Porcentagem de Ocorrências')\n",
    "plt.ylabel('Erro Reportado')\n",
    "plt.title('Distribuição de Erros Reportados')\n",
    "plt.tight_layout()\n",
    "plt.show()\n"
   ]
  },
  {
   "cell_type": "code",
   "execution_count": 70,
   "id": "c924ede8",
   "metadata": {},
   "outputs": [
    {
     "data": {
      "image/png": "[encoded data removed]",
      "text/plain": [
       "<Figure size 1000x600 with 1 Axes>"
      ]
     },
     "metadata": {},
     "output_type": "display_data"
    }
   ],
   "source": [
    "import matplotlib.pyplot as plt\n",
    "import seaborn as sns\n",
    "\n",
    "total_erros = contagem_erros['Ocorrências'].sum()\n",
    "\n",
    "contagem_erros = contagem_erros.sort_values('Ocorrências', ascending=True)\n",
    "\n",
    "plt.figure(figsize=(10, 6))\n",
    "\n",
    "wedges, texts, autotexts = plt.pie(\n",
    "    contagem_erros['Ocorrências'],\n",
    "    labels=None,\n",
    "    autopct=lambda p: f'{p:.1f}%' if p >= 0.5 else '',\n",
    "    startangle=90,\n",
    "    colors=sns.color_palette('viridis', len(contagem_erros)),\n",
    "    wedgeprops={'edgecolor': 'white', 'linewidth': 0.5},\n",
    "    textprops={'fontsize': 8, 'color': 'black'},\n",
    "    pctdistance=0.75,\n",
    "    rotatelabels=False\n",
    ")\n",
    "\n",
    "for i, (text, p) in enumerate(zip(autotexts, contagem_erros['Ocorrências'] / total_erros * 100)):\n",
    "    if p < 1:\n",
    "        text.set_position((1.2 * text.get_position()[0], 1.2 * text.get_position()[1]))\n",
    "\n",
    "plt.legend(\n",
    "    title=\"Tipos de Erro\",\n",
    "    labels=contagem_erros.apply(\n",
    "        lambda x: f\"{x['Erro Mapeado']} ({x['Ocorrências']} | {x['Ocorrências'] / total_erros * 100:.1f}%)\", \n",
    "        axis=1\n",
    "    ),\n",
    "    loc=\"center left\",\n",
    "    bbox_to_anchor=(1.1, 0.5),\n",
    "    fontsize=8\n",
    ")\n",
    "\n",
    "plt.title('Distribuição de Erros', pad=20, fontsize=12)\n",
    "plt.tight_layout()\n",
    "plt.show()"
   ]
  }
 ],
 "metadata": {
  "kernelspec": {
   "display_name": "Python 3",
   "language": "python",
   "name": "python3"
  },
  "language_info": {
   "codemirror_mode": {
    "name": "ipython",
    "version": 3
   },
   "file_extension": ".py",
   "mimetype": "text/x-python",
   "name": "python",
   "nbconvert_exporter": "python",
   "pygments_lexer": "ipython3",
   "version": "3.11.9"
  }
 },
 "nbformat": 4,
 "nbformat_minor": 5
}
